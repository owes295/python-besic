{
  "cells": [
    {
      "cell_type": "markdown",
      "metadata": {
        "id": "view-in-github",
        "colab_type": "text"
      },
      "source": [
        "<a href=\"https://colab.research.google.com/github/owes295/python-besic/blob/main/day_1.ipynb\" target=\"_parent\"><img src=\"https://colab.research.google.com/assets/colab-badge.svg\" alt=\"Open In Colab\"/></a>"
      ]
    },
    {
      "cell_type": "code",
      "source": [],
      "metadata": {
        "id": "EAd5EJDo_TPd"
      },
      "execution_count": null,
      "outputs": []
    },
    {
      "cell_type": "markdown",
      "metadata": {
        "id": "64vvHqQ05GZp"
      },
      "source": [
        "Day-1"
      ]
    },
    {
      "cell_type": "code",
      "execution_count": null,
      "metadata": {
        "colab": {
          "base_uri": "https://localhost:8080/"
        },
        "id": "Gfp7HPZ7KW-n",
        "outputId": "0b67fe1e-64a8-4486-a9ba-4d61b2ee8913"
      },
      "outputs": [
        {
          "name": "stdout",
          "output_type": "stream",
          "text": [
            "hello world\n"
          ]
        }
      ],
      "source": [
        "print(\"hello world\")"
      ]
    },
    {
      "cell_type": "code",
      "execution_count": null,
      "metadata": {
        "colab": {
          "base_uri": "https://localhost:8080/"
        },
        "id": "MdaDH0laOG5j",
        "outputId": "c4e48a2d-9fc9-432d-9488-4e1b8fa6dcfe"
      },
      "outputs": [
        {
          "name": "stdout",
          "output_type": "stream",
          "text": [
            "5\n"
          ]
        }
      ],
      "source": [
        "a=3\n",
        "b=2\n",
        "print(a+b)"
      ]
    },
    {
      "cell_type": "code",
      "execution_count": null,
      "metadata": {
        "colab": {
          "base_uri": "https://localhost:8080/"
        },
        "id": "vGwRbYgxOGcz",
        "outputId": "f6f074e8-8a54-48c0-97f3-a1ef5f42ee63"
      },
      "outputs": [
        {
          "name": "stdout",
          "output_type": "stream",
          "text": [
            "60\n"
          ]
        }
      ],
      "source": [
        "a=20\n",
        "b=40\n",
        "print(a+b)"
      ]
    },
    {
      "cell_type": "code",
      "execution_count": null,
      "metadata": {
        "colab": {
          "base_uri": "https://localhost:8080/"
        },
        "id": "_kpUnAYoOp_j",
        "outputId": "cb93487e-7fd8-46b1-f789-7b0af64792cb"
      },
      "outputs": [
        {
          "name": "stdout",
          "output_type": "stream",
          "text": [
            "13\n"
          ]
        }
      ],
      "source": [
        "c=3\n",
        "b=10\n",
        "print(c+b)"
      ]
    },
    {
      "cell_type": "markdown",
      "metadata": {
        "id": "QcLPZzNxNvfj"
      },
      "source": [
        "\n"
      ]
    },
    {
      "cell_type": "code",
      "execution_count": null,
      "metadata": {
        "colab": {
          "base_uri": "https://localhost:8080/"
        },
        "id": "82HEMbHdO4yT",
        "outputId": "3e96a987-dfa3-42ea-e36c-bf90dc274e47"
      },
      "outputs": [
        {
          "name": "stdout",
          "output_type": "stream",
          "text": [
            "10\n"
          ]
        }
      ],
      "source": [
        "a=3\n",
        "b=5\n",
        "c=2\n",
        "print(a+b+c)"
      ]
    },
    {
      "cell_type": "code",
      "execution_count": null,
      "metadata": {
        "colab": {
          "base_uri": "https://localhost:8080/"
        },
        "id": "AlKgLqhYP3MM",
        "outputId": "7d011968-d057-404b-a098-b21415ef1df4"
      },
      "outputs": [
        {
          "name": "stdout",
          "output_type": "stream",
          "text": [
            "add=\n"
          ]
        },
        {
          "data": {
            "text/plain": [
              "(None, 3)"
            ]
          },
          "execution_count": 6,
          "metadata": {},
          "output_type": "execute_result"
        }
      ],
      "source": [
        "print(\"add=\"), a"
      ]
    },
    {
      "cell_type": "code",
      "execution_count": null,
      "metadata": {
        "colab": {
          "base_uri": "https://localhost:8080/"
        },
        "id": "GriudfrAQCly",
        "outputId": "afd398ac-325a-4598-b578-a6d3a7f9c211"
      },
      "outputs": [
        {
          "name": "stdout",
          "output_type": "stream",
          "text": [
            "add= 10\n",
            "sub -4\n",
            "mul 30\n"
          ]
        }
      ],
      "source": [
        "print(\"add=\",a+b+c)\n",
        "print(\"sub\",a-b-c)\n",
        "\n",
        "print(\"mul\",a*b*c)"
      ]
    },
    {
      "cell_type": "code",
      "execution_count": null,
      "metadata": {
        "colab": {
          "base_uri": "https://localhost:8080/"
        },
        "id": "uDiVL7SAjF1n",
        "outputId": "1c796f88-58de-47d3-d708-575baa648776"
      },
      "outputs": [
        {
          "name": "stdout",
          "output_type": "stream",
          "text": [
            "15\n",
            "<class 'int'>\n",
            "<class 'str'>\n"
          ]
        }
      ],
      "source": [
        "a=15\n",
        "b=5\n",
        "b=str(a)\n",
        "print(b)\n",
        "print(type(a))\n",
        "print(type(b))"
      ]
    },
    {
      "cell_type": "code",
      "execution_count": null,
      "metadata": {
        "colab": {
          "base_uri": "https://localhost:8080/"
        },
        "id": "MiRT3Df6k2Fv",
        "outputId": "da6d0830-baa3-4222-f02d-08e0638635b0"
      },
      "outputs": [
        {
          "name": "stdout",
          "output_type": "stream",
          "text": [
            "hello  hello  hello\n"
          ]
        }
      ],
      "source": [
        "print(\"hello  hello  hello\")"
      ]
    },
    {
      "cell_type": "code",
      "execution_count": null,
      "metadata": {
        "colab": {
          "base_uri": "https://localhost:8080/"
        },
        "id": "wrPk9DdhlFIv",
        "outputId": "6a040996-07c0-45e8-9e9e-f156df01469e"
      },
      "outputs": [
        {
          "name": "stdout",
          "output_type": "stream",
          "text": [
            "hello hello hello hello hello \n"
          ]
        }
      ],
      "source": [
        "a=\"hello \"\n",
        "b=5\n",
        "print(a *5)"
      ]
    },
    {
      "cell_type": "code",
      "execution_count": null,
      "metadata": {
        "colab": {
          "base_uri": "https://localhost:8080/"
        },
        "id": "MYLU3VrAnCiv",
        "outputId": "0b625626-8de4-498d-8c37-9a612e8d3c59"
      },
      "outputs": [
        {
          "name": "stdout",
          "output_type": "stream",
          "text": [
            "enter the integer value12\n",
            "12\n"
          ]
        }
      ],
      "source": [
        "a=int(input(\"enter the integer value\"))\n",
        "print(a)"
      ]
    },
    {
      "cell_type": "code",
      "execution_count": null,
      "metadata": {
        "colab": {
          "base_uri": "https://localhost:8080/"
        },
        "id": "6_ySFmWknzR3",
        "outputId": "935eeef8-7345-454b-882e-7f64003d0902"
      },
      "outputs": [
        {
          "name": "stdout",
          "output_type": "stream",
          "text": [
            "eneter the integer:12\n",
            "12\n",
            "enter float value:450\n",
            "450.0\n",
            "enter the string value46\n",
            "46\n",
            "<class 'str'>\n"
          ]
        }
      ],
      "source": [
        "c=int(input(\"eneter the integer:\"))\n",
        "print(a)\n",
        "b=float(input(\"enter float value:\"))\n",
        "print(b)\n",
        "c=input(\"enter the string value\")\n",
        "print(c)\n",
        "print(type(c))"
      ]
    },
    {
      "cell_type": "code",
      "execution_count": null,
      "metadata": {
        "colab": {
          "base_uri": "https://localhost:8080/"
        },
        "id": "Y65N0EADoeBP",
        "outputId": "d976214d-425b-470c-ced8-bb6a55724beb"
      },
      "outputs": [
        {
          "name": "stdout",
          "output_type": "stream",
          "text": [
            "12\n",
            "15\n",
            "12 15\n"
          ]
        }
      ],
      "source": [
        "first_name =int(input())\n",
        "second_name =int(input())\n",
        "print(str(first_name)+\" \"+str(second_name))\n",
        "\n"
      ]
    },
    {
      "cell_type": "code",
      "execution_count": null,
      "metadata": {
        "colab": {
          "base_uri": "https://localhost:8080/"
        },
        "id": "EQ5Oua4DtYze",
        "outputId": "130dd453-bb93-4b5b-f7dd-cbbc1773f919"
      },
      "outputs": [
        {
          "name": "stdout",
          "output_type": "stream",
          "text": [
            "hi hi hi hi hi hi hi hi hi hi \n"
          ]
        }
      ],
      "source": [
        "a=(\"hi \")\n",
        "b=10\n",
        "print(a*b)"
      ]
    },
    {
      "cell_type": "code",
      "execution_count": null,
      "metadata": {
        "colab": {
          "base_uri": "https://localhost:8080/"
        },
        "id": "yxafqBu-t0D_",
        "outputId": "fe054d15-a01d-4fe2-89f3-f0322ff4177b"
      },
      "outputs": [
        {
          "name": "stdout",
          "output_type": "stream",
          "text": [
            "hello motii\n",
            "20\n",
            "hello motiihello motiihello motiihello motiihello motiihello motiihello motiihello motiihello motiihello motiihello motiihello motiihello motiihello motiihello motiihello motiihello motiihello motiihello motiihello motii\n"
          ]
        }
      ],
      "source": [
        "first_name=input()\n",
        "repeated=int(input())\n",
        "print(first_name*repeated)"
      ]
    },
    {
      "cell_type": "code",
      "execution_count": null,
      "metadata": {
        "colab": {
          "base_uri": "https://localhost:8080/"
        },
        "id": "I-llfBnzwo-1",
        "outputId": "bbd448a2-45f2-4273-a07d-701df2c78caa"
      },
      "outputs": [
        {
          "name": "stdout",
          "output_type": "stream",
          "text": [
            "owes\n",
            "20\n",
            "owes20\n"
          ]
        }
      ],
      "source": [
        "a=input()\n",
        "b=input()\n",
        "print(a+b)"
      ]
    },
    {
      "cell_type": "code",
      "execution_count": null,
      "metadata": {
        "colab": {
          "base_uri": "https://localhost:8080/"
        },
        "id": "VF3Tyw5_xE6W",
        "outputId": "665c0724-d4aa-4c5d-a9e3-a4b84fd173ac"
      },
      "outputs": [
        {
          "name": "stdout",
          "output_type": "stream",
          "text": [
            "20\n",
            "22\n",
            "20is number20years old\n"
          ]
        }
      ],
      "source": [
        "a=input()\n",
        "b:int(input())\n",
        "print(a+\"is number\"+str(b)+\"years old\")"
      ]
    },
    {
      "cell_type": "markdown",
      "metadata": {
        "id": "7R9_lem01ZSl"
      },
      "source": [
        "i am studying <college name> collge and i am from <branch name> branch and now i am in <year name"
      ]
    },
    {
      "cell_type": "code",
      "execution_count": null,
      "metadata": {
        "colab": {
          "base_uri": "https://localhost:8080/"
        },
        "id": "URzOz9NH0BJN",
        "outputId": "4d89923f-6c95-4b55-8270-c72e1a3ab349"
      },
      "outputs": [
        {
          "name": "stdout",
          "output_type": "stream",
          "text": [
            "owes\n",
            "19\n",
            "owes is 19 year old\n"
          ]
        }
      ],
      "source": [
        "a=input()\n",
        "b=int(input())\n",
        "print(a + \" is \" + str(b)+ \" year old\")"
      ]
    },
    {
      "cell_type": "code",
      "execution_count": null,
      "metadata": {
        "colab": {
          "base_uri": "https://localhost:8080/"
        },
        "id": "HF4tXsiO377E",
        "outputId": "f048f6be-a0ad-43f1-f795-44ecbc099cdd"
      },
      "outputs": [
        {
          "name": "stdout",
          "output_type": "stream",
          "text": [
            "Enter your college name: KLE BK BCA COLLEGE\n",
            "Enter your branch name: BCA\n",
            "Enter your year: 2025\n",
            "I am studying KLE BK BCA COLLEGE college and I am from BCA branch and now I am in 2025 year\n"
          ]
        }
      ],
      "source": [
        "college_name = input(\"Enter your college name: \")\n",
        "branch_name = input(\"Enter your branch name: \")\n",
        "year_name = input(\"Enter your year: \")\n",
        "\n",
        "print(f\"I am studying {college_name} college and I am from {branch_name} branch and now I am in {year_name} year\")"
      ]
    },
    {
      "cell_type": "markdown",
      "metadata": {
        "id": "EGa_1_eF0_aD"
      },
      "source": [
        "day 2 start"
      ]
    },
    {
      "cell_type": "code",
      "execution_count": null,
      "metadata": {
        "colab": {
          "base_uri": "https://localhost:8080/"
        },
        "id": "KIU9ciWR5mwb",
        "outputId": "7f24d0a5-c3b1-4f58-a5b2-263a5f0766eb"
      },
      "outputs": [
        {
          "name": "stdout",
          "output_type": "stream",
          "text": [
            "addition: 20\n",
            "sub: -14\n",
            "multiply: 51\n",
            "divsion: 0.17647058823529413\n",
            "modulus: 3\n",
            "exponent: 129140163\n",
            "floor division: 0\n"
          ]
        }
      ],
      "source": [
        "#addition\n",
        "a=3\n",
        "b=17\n",
        "print(\"addition:\",a+b)\n",
        "print(\"sub:\",a-b)\n",
        "print(\"multiply:\",a*b)\n",
        "print(\"divsion:\",a/b)\n",
        "print(\"modulus:\",a%b)\n",
        "print(\"exponent:\",a**b)\n",
        "print(\"floor division:\",a//b)"
      ]
    },
    {
      "cell_type": "code",
      "execution_count": null,
      "metadata": {
        "colab": {
          "base_uri": "https://localhost:8080/"
        },
        "id": "aUf7Slzm8CR8",
        "outputId": "2d7ce2e1-4af4-4f73-aff2-683b43a08cfc"
      },
      "outputs": [
        {
          "name": "stdout",
          "output_type": "stream",
          "text": [
            "addition: 19\n",
            "sub: -15\n",
            "multiply: 34\n",
            "divsion: 0.11764705882352941\n",
            "modulus: 2\n",
            "exponent: 131072\n",
            "floor division: 0\n"
          ]
        }
      ],
      "source": [
        "#addition\n",
        "a=2\n",
        "b=17\n",
        "print(\"addition:\",a+b)\n",
        "print(\"sub:\",a-b)\n",
        "print(\"multiply:\",a*b)\n",
        "print(\"divsion:\",a/b)\n",
        "print(\"modulus:\",a%b)\n",
        "print(\"exponent:\",a**b)\n",
        "print(\"floor division:\",a//b)"
      ]
    },
    {
      "cell_type": "code",
      "execution_count": null,
      "metadata": {
        "colab": {
          "base_uri": "https://localhost:8080/"
        },
        "id": "DAHF3fAP8vpj",
        "outputId": "0a3f5015-5cdd-4992-8768-077781387c86"
      },
      "outputs": [
        {
          "name": "stdout",
          "output_type": "stream",
          "text": [
            "o\n"
          ]
        }
      ],
      "source": [
        "my_name= \"owes\"\n",
        "print(my_name[0])"
      ]
    },
    {
      "cell_type": "code",
      "execution_count": null,
      "metadata": {
        "colab": {
          "base_uri": "https://localhost:8080/"
        },
        "id": "Qj6UtcxJxptG",
        "outputId": "569e3e10-fc86-41d1-da32-c6796ff47c17"
      },
      "outputs": [
        {
          "name": "stdout",
          "output_type": "stream",
          "text": [
            "3\n"
          ]
        }
      ],
      "source": [
        "my_name=\"ali\"\n",
        "print(len(my_name))\n",
        "\n"
      ]
    },
    {
      "cell_type": "code",
      "execution_count": null,
      "metadata": {
        "colab": {
          "base_uri": "https://localhost:8080/"
        },
        "id": "kZSJTBz0yJ3V",
        "outputId": "7c846aea-da80-4edb-f97c-f52991dd70f3"
      },
      "outputs": [
        {
          "name": "stdout",
          "output_type": "stream",
          "text": [
            "2\n"
          ]
        }
      ],
      "source": [
        "a=15\n",
        "print(len(str(a)))"
      ]
    },
    {
      "cell_type": "code",
      "execution_count": null,
      "metadata": {
        "colab": {
          "base_uri": "https://localhost:8080/"
        },
        "id": "oVgwyXx_0vCM",
        "outputId": "857109d5-ae7a-4e0e-8db7-795fe8e3815a"
      },
      "outputs": [
        {
          "name": "stdout",
          "output_type": "stream",
          "text": [
            "geek\n",
            "for\n",
            "geeks\n"
          ]
        }
      ],
      "source": [
        "C_N=\"geek for geeks\"\n",
        "\n",
        "print(C_N[0:4])\n",
        "\n",
        "print(C_N[5:8])\n",
        "\n",
        "print(C_N[9:14])"
      ]
    },
    {
      "cell_type": "code",
      "execution_count": null,
      "metadata": {
        "colab": {
          "base_uri": "https://localhost:8080/"
        },
        "id": "XexWDZQ74yuK",
        "outputId": "6fec4fed-1c70-4432-a804-f5d4ec7a1d9a"
      },
      "outputs": [
        {
          "name": "stdout",
          "output_type": "stream",
          "text": [
            "owes\n",
            "abdulla\n",
            "ali\n"
          ]
        }
      ],
      "source": [
        "C_N=\"owes abdulla ali\"\n",
        "\n",
        "print(C_N[0:4])\n",
        "\n",
        "print(C_N[5:12])\n",
        "\n",
        "print(C_N[13:16])"
      ]
    },
    {
      "cell_type": "code",
      "execution_count": null,
      "metadata": {
        "colab": {
          "base_uri": "https://localhost:8080/"
        },
        "id": "cmqrNPGJ5FNi",
        "outputId": "de3bac0a-4c7b-4988-ead6-e191b34663b9"
      },
      "outputs": [
        {
          "name": "stdout",
          "output_type": "stream",
          "text": [
            "enter the company name22\n",
            "22\n",
            "**\n",
            "*2\n"
          ]
        }
      ],
      "source": [
        "company_name = input(\"enter the company name\")\n",
        "print(company_name)\n",
        "\n",
        "find_length_of_company_name=len(company_name)\n",
        "print(\"*\" * find_length_of_company_name)\n",
        "print(\"*\" +str(find_length_of_company_name))\n"
      ]
    },
    {
      "cell_type": "code",
      "execution_count": null,
      "metadata": {
        "colab": {
          "base_uri": "https://localhost:8080/"
        },
        "id": "3uBEkk-a62ch",
        "outputId": "84e0600d-ddc0-4c86-83a1-10fac8ae8b0d"
      },
      "outputs": [
        {
          "name": "stdout",
          "output_type": "stream",
          "text": [
            "sara traders2222222\n",
            "2222222\n",
            "*******\n"
          ]
        }
      ],
      "source": [
        "company_name = input(\"sara traders\")\n",
        "print(company_name)\n",
        "\n",
        "find_length_of_company_name=len(company_name)\n",
        "print(\"*\" * find_length_of_company_name)"
      ]
    },
    {
      "cell_type": "code",
      "execution_count": null,
      "metadata": {
        "colab": {
          "base_uri": "https://localhost:8080/"
        },
        "id": "EcEbmeaz9efw",
        "outputId": "81aa900b-cd14-4388-cdb0-b7529e0ebc4c"
      },
      "outputs": [
        {
          "name": "stdout",
          "output_type": "stream",
          "text": [
            "r\n"
          ]
        }
      ],
      "source": [
        "c_name=\"geek for geeks\"\n",
        "a=len(c_name)\n",
        "b=a/2\n",
        "c=int(b)\n",
        "print(c_name[c])"
      ]
    },
    {
      "cell_type": "code",
      "execution_count": null,
      "metadata": {
        "colab": {
          "base_uri": "https://localhost:8080/"
        },
        "id": "yyKD6s4O-GPn",
        "outputId": "52615563-315a-4a85-b510-1f92bf949c0c"
      },
      "outputs": [
        {
          "name": "stdout",
          "output_type": "stream",
          "text": [
            "enter the company nameali\n",
            "ali\n",
            "string legth is 3\n",
            "quofient is 1.5\n",
            "convert_int 1\n",
            "l\n"
          ]
        }
      ],
      "source": [
        "company_name = input(\"enter the company name\")\n",
        "print(company_name)\n",
        "\n",
        "#find the length od the company\n",
        "find_length_of_company_name=len(company_name)\n",
        "print(\"string legth is\",find_length_of_company_name)\n",
        "\n",
        "#find the quo of company\n",
        "find_quofient=find_length_of_company_name/2\n",
        "print(\"quofient is\",find_quofient)\n",
        "\n",
        "#convert float to int using int\n",
        "convert_int=int(find_quofient)\n",
        "print(\"convert_int\",convert_int)\n",
        "\n",
        "#print the pos of the character\n",
        "print(company_name[convert_int])"
      ]
    },
    {
      "cell_type": "code",
      "execution_count": null,
      "metadata": {
        "colab": {
          "base_uri": "https://localhost:8080/"
        },
        "id": "v3lISQ22Fbg1",
        "outputId": "593063ab-ec00-46cb-d877-7df0739367e0"
      },
      "outputs": [
        {
          "name": "stdout",
          "output_type": "stream",
          "text": [
            "owes\n",
            "***owes***\n"
          ]
        }
      ],
      "source": [
        "name=input()\n",
        "print(\"***\"+name+\"***\")"
      ]
    },
    {
      "cell_type": "code",
      "execution_count": null,
      "metadata": {
        "colab": {
          "base_uri": "https://localhost:8080/"
        },
        "id": "Vi9gXkDSJsQy",
        "outputId": "0f7a3c8e-ed96-4b74-a869-30e7de89ae99"
      },
      "outputs": [
        {
          "name": "stdout",
          "output_type": "stream",
          "text": [
            "0\n"
          ]
        }
      ],
      "source": [
        "a = 21\n",
        "b = str(a)\n",
        "f_c = int(b[0]) - 2\n",
        "l_c = int(b[-1]) - 1\n",
        "print(l_c+ f_c)"
      ]
    },
    {
      "cell_type": "code",
      "execution_count": null,
      "metadata": {
        "colab": {
          "base_uri": "https://localhost:8080/"
        },
        "id": "NpDmhq9FKJlS",
        "outputId": "fedaaf2c-6916-4a6e-b59a-e062e384a1bb"
      },
      "outputs": [
        {
          "name": "stdout",
          "output_type": "stream",
          "text": [
            "* *\n",
            "* *\n"
          ]
        }
      ],
      "source": [
        "print(\"* *\")\n",
        "print(\"* *\")\n"
      ]
    },
    {
      "cell_type": "code",
      "execution_count": null,
      "metadata": {
        "colab": {
          "base_uri": "https://localhost:8080/"
        },
        "id": "4a9M5IXpKU8a",
        "outputId": "691dc958-debe-440a-e521-e5a0f37ce290"
      },
      "outputs": [
        {
          "name": "stdout",
          "output_type": "stream",
          "text": [
            "*\n",
            "* *\n",
            "* * *\n"
          ]
        }
      ],
      "source": [
        "print(\"*\")\n",
        "print(\"* *\")\n",
        "print(\"* * *\")"
      ]
    },
    {
      "cell_type": "code",
      "execution_count": null,
      "metadata": {
        "colab": {
          "base_uri": "https://localhost:8080/"
        },
        "id": "xl5T0oIBKjeC",
        "outputId": "170437f0-463f-42df-e07a-4760a9a6329d"
      },
      "outputs": [
        {
          "name": "stdout",
          "output_type": "stream",
          "text": [
            "* * *\n",
            "* * *\n"
          ]
        }
      ],
      "source": [
        "print(\"* * *\")\n",
        "print(\"* * *\")"
      ]
    },
    {
      "cell_type": "code",
      "execution_count": null,
      "metadata": {
        "colab": {
          "base_uri": "https://localhost:8080/"
        },
        "id": "bxFWIuGjKqtq",
        "outputId": "07600a4c-f35e-4a29-f70a-c6cf5c4adba5"
      },
      "outputs": [
        {
          "name": "stdout",
          "output_type": "stream",
          "text": [
            "2\n"
          ]
        }
      ],
      "source": [
        "a=\"owes\"\n",
        "b=len(a)\n",
        "c=b-2\n",
        "print(c)"
      ]
    },
    {
      "cell_type": "code",
      "execution_count": null,
      "metadata": {
        "colab": {
          "base_uri": "https://localhost:8080/"
        },
        "id": "3_JcIds1LUOi",
        "outputId": "9171c5a9-9ea2-4473-ae8c-46799418d276"
      },
      "outputs": [
        {
          "name": "stdout",
          "output_type": "stream",
          "text": [
            "A****a\n"
          ]
        }
      ],
      "source": [
        "a=\"Anusha\"\n",
        "b=len(a)\n",
        "print(a[0]+\"*\"*(b-2)+a[-1])\n",
        "\n"
      ]
    },
    {
      "cell_type": "code",
      "execution_count": null,
      "metadata": {
        "colab": {
          "base_uri": "https://localhost:8080/"
        },
        "id": "41DHemxJNqV5",
        "outputId": "39ea7e7d-4481-42d3-8814-9069588347c8"
      },
      "outputs": [
        {
          "name": "stdout",
          "output_type": "stream",
          "text": [
            "o**s\n"
          ]
        }
      ],
      "source": [
        "a=\"owes\"\n",
        "b=len(a)\n",
        "print(a[0]+\"*\"*(b-2)+a[-1])"
      ]
    },
    {
      "cell_type": "code",
      "execution_count": null,
      "metadata": {
        "colab": {
          "base_uri": "https://localhost:8080/"
        },
        "id": "HABGvvmxRXXh",
        "outputId": "779993d8-fe70-4347-890a-d6979bc65cf3"
      },
      "outputs": [
        {
          "name": "stdout",
          "output_type": "stream",
          "text": [
            "abdulla\n",
            "7\n",
            "4\n"
          ]
        }
      ],
      "source": [
        "a=input()\n",
        "find_length=len(a)\n",
        "print(find_length)\n",
        "print(find_length-3)"
      ]
    },
    {
      "cell_type": "code",
      "execution_count": null,
      "metadata": {
        "colab": {
          "base_uri": "https://localhost:8080/"
        },
        "id": "3i8sCQ-FVK6E",
        "outputId": "1b21c68c-0757-4772-9d7d-c922f05c04a0"
      },
      "outputs": [
        {
          "name": "stdout",
          "output_type": "stream",
          "text": [
            "325\n",
            "10\n"
          ]
        }
      ],
      "source": [
        "user_input=input()\n",
        "first_char =int(user_input[0])\n",
        "second_char =int(user_input[1])\n",
        "third_char =int(user_input[2])\n",
        "print(first_char+second_char+third_char)"
      ]
    },
    {
      "cell_type": "code",
      "execution_count": null,
      "metadata": {
        "colab": {
          "base_uri": "https://localhost:8080/"
        },
        "id": "Zu9bV4c8V3MN",
        "outputId": "8665e002-afb3-4f22-fa85-dbfc0273043b"
      },
      "outputs": [
        {
          "name": "stdout",
          "output_type": "stream",
          "text": [
            "emter the name=owesrazamakandar\n",
            "8\n",
            "makandar\n"
          ]
        }
      ],
      "source": [
        "name=input(\"emter the name=\")\n",
        "num=int(input())\n",
        "print(name[num:len(name)])\n"
      ]
    },
    {
      "cell_type": "code",
      "execution_count": null,
      "metadata": {
        "colab": {
          "base_uri": "https://localhost:8080/"
        },
        "id": "jMuMUAyoXjvs",
        "outputId": "7fe0a183-bb99-48c2-8abf-db89df052002"
      },
      "outputs": [
        {
          "name": "stdout",
          "output_type": "stream",
          "text": [
            "geek for geeks\n",
            "2\n",
            "ek for geeks\n",
            "e\n"
          ]
        }
      ],
      "source": [
        "user_name = input()\n",
        "starting_pos = int(input())\n",
        "print(user_name[starting_pos:])\n",
        "print(user_name[starting_pos])"
      ]
    },
    {
      "cell_type": "code",
      "execution_count": null,
      "metadata": {
        "colab": {
          "base_uri": "https://localhost:8080/"
        },
        "id": "45Mo9FeCZW1T",
        "outputId": "d3016435-cccc-46c1-fd91-f97dcc95a0cf"
      },
      "outputs": [
        {
          "name": "stdout",
          "output_type": "stream",
          "text": [
            "owes\n",
            "2\n",
            "es\n",
            "es\n"
          ]
        }
      ],
      "source": [
        "user_name = input()\n",
        "starting_pos = int(input())\n",
        "print(user_name[starting_pos:])\n",
        "print(user_name[starting_pos:])"
      ]
    },
    {
      "cell_type": "code",
      "execution_count": null,
      "metadata": {
        "colab": {
          "base_uri": "https://localhost:8080/"
        },
        "id": "3dGJG6g2rkKx",
        "outputId": "cf50e651-5169-4300-9ec7-719feed5e230"
      },
      "outputs": [
        {
          "name": "stdout",
          "output_type": "stream",
          "text": [
            "True\n",
            "True\n",
            "False\n",
            "False\n",
            "False\n",
            "True\n"
          ]
        }
      ],
      "source": [
        "a=10\n",
        "b=11\n",
        "print(a<b)\n",
        "print(a<=b)\n",
        "\n",
        "print(a>b)\n",
        "print(a>=b)\n",
        "\n",
        "print(a==b)\n",
        "print(a!=b)"
      ]
    },
    {
      "cell_type": "code",
      "execution_count": null,
      "metadata": {
        "colab": {
          "base_uri": "https://localhost:8080/"
        },
        "id": "OA5sddY2s_DY",
        "outputId": "7063ffc2-75c6-4695-cebc-18886b78db95"
      },
      "outputs": [
        {
          "name": "stdout",
          "output_type": "stream",
          "text": [
            "True\n"
          ]
        }
      ],
      "source": [
        "a=10\n",
        "b=20\n",
        "print(a<=b)\n",
        "\n"
      ]
    },
    {
      "cell_type": "code",
      "execution_count": null,
      "metadata": {
        "colab": {
          "base_uri": "https://localhost:8080/"
        },
        "id": "I3c8xHaftlUQ",
        "outputId": "c75ea284-62c6-476d-e618-c0f941083945"
      },
      "outputs": [
        {
          "name": "stdout",
          "output_type": "stream",
          "text": [
            "is True valid password \n"
          ]
        }
      ],
      "source": [
        "a=\"owes@1091\"\n",
        "b=len(a)\n",
        "c=b>8\n",
        "print(\"is \"+str(c)+\" valid password \")"
      ]
    },
    {
      "cell_type": "code",
      "execution_count": null,
      "metadata": {
        "colab": {
          "base_uri": "https://localhost:8080/"
        },
        "id": "BUOX5APvwFwm",
        "outputId": "14b9d5fb-1252-4553-b00b-4faad6a1e704"
      },
      "outputs": [
        {
          "name": "stdout",
          "output_type": "stream",
          "text": [
            "owes@1091\n",
            "is True valid password\n"
          ]
        }
      ],
      "source": [
        "password=input()\n",
        "lenght_of_password=len(password)\n",
        "is_output = lenght_of_password>8\n",
        "print(\"is \"+str(is_output)+\" valid password\")"
      ]
    },
    {
      "cell_type": "code",
      "execution_count": null,
      "metadata": {
        "colab": {
          "base_uri": "https://localhost:8080/"
        },
        "id": "7DWxKfP6xtWN",
        "outputId": "e3ee3de8-ca7e-4ff9-bb0d-c0335e174acc"
      },
      "outputs": [
        {
          "name": "stdout",
          "output_type": "stream",
          "text": [
            "geek for geeks\n",
            "geekn\n",
            "lenght of second string: 5\n",
            "part of string is : geek \n",
            "False\n"
          ]
        }
      ],
      "source": [
        "first_name = input()\n",
        "second_name = input()\n",
        "find_len_of_second_string=len(second_name)\n",
        "print(\"lenght of second string:\",find_len_of_second_string)\n",
        "take_some_part_from_first=first_name[0:find_len_of_second_string]\n",
        "print(\"part of string is :\",take_some_part_from_first)\n",
        "print(second_name==take_some_part_from_first)"
      ]
    },
    {
      "cell_type": "code",
      "execution_count": null,
      "metadata": {
        "colab": {
          "base_uri": "https://localhost:8080/"
        },
        "id": "ZWlsT40q1iHU",
        "outputId": "61ce9723-742d-4505-95c1-9f70b6fd963a"
      },
      "outputs": [
        {
          "name": "stdout",
          "output_type": "stream",
          "text": [
            "enter the nameowes\n",
            "owes\n",
            "False\n"
          ]
        }
      ],
      "source": [
        "a=(input(\"enter the name\"))\n",
        "print(a)\n",
        "f_c=a[0]\n",
        "l_c=a[-1]\n",
        "print(f_c==l_c)"
      ]
    },
    {
      "cell_type": "code",
      "execution_count": null,
      "metadata": {
        "colab": {
          "base_uri": "https://localhost:8080/"
        },
        "id": "2nrx1BYk3MLS",
        "outputId": "7a0f495a-de7d-4a16-d664-81ee8e76f758"
      },
      "outputs": [
        {
          "name": "stdout",
          "output_type": "stream",
          "text": [
            "72\n",
            "65\n",
            "51\n",
            "Eligible\n"
          ]
        }
      ],
      "source": [
        "# Read input values\n",
        "M = int(input()) # Maths marks\n",
        "P = int(input()) # Physics marks\n",
        "C = int(input()) # Chemistry marks\n",
        "# Check conditions\n",
        "if (M >= 60 and P >= 50 and C >= 45 and (M + P + C) >= 180) or \\\n",
        "    (M + P >= 120) or \\\n",
        "    (C + P >= 110):\n",
        "    print(\"Eligible\")\n",
        "else:\n",
        "    print(\"Not Eligible\")"
      ]
    },
    {
      "cell_type": "markdown",
      "metadata": {
        "id": "pv8EgZdozMVh"
      },
      "source": [
        "day 3 start"
      ]
    },
    {
      "cell_type": "code",
      "execution_count": null,
      "metadata": {
        "colab": {
          "base_uri": "https://localhost:8080/"
        },
        "id": "oFpuzdJGzQzZ",
        "outputId": "889a544d-da27-41ea-a04d-f6cd6af76bf3"
      },
      "outputs": [
        {
          "name": "stdout",
          "output_type": "stream",
          "text": [
            "10 is greter that 5\n",
            "hi\n",
            "program ended\n"
          ]
        }
      ],
      "source": [
        "if 10 >5:\n",
        "  print(\"10 is greter that 5\")\n",
        "  print(\"hi\")\n",
        "  print(\"program ended\")"
      ]
    },
    {
      "cell_type": "code",
      "execution_count": null,
      "metadata": {
        "colab": {
          "base_uri": "https://localhost:8080/"
        },
        "id": "fy7jhQzKBN_z",
        "outputId": "df7b82bd-f57a-4060-fab6-482e42b0d3c1"
      },
      "outputs": [
        {
          "name": "stdout",
          "output_type": "stream",
          "text": [
            "elgeble for vote\n",
            "program ended\n"
          ]
        }
      ],
      "source": [
        "age=18\n",
        "e_v=\"elgeble for vote\"\n",
        "n_e_v=\"not elegble for vote\"\n",
        "if age>=18:\n",
        "  print(e_v)\n",
        "  print(\"program ended\")\n",
        "else:\n",
        "  print(n_e_v)\n",
        "  print(\"program ended\")"
      ]
    },
    {
      "cell_type": "code",
      "execution_count": null,
      "metadata": {
        "colab": {
          "base_uri": "https://localhost:8080/"
        },
        "id": "twrFfLk7CPKE",
        "outputId": "b747ae93-1d34-4e71-91aa-4cf10553705e"
      },
      "outputs": [
        {
          "name": "stdout",
          "output_type": "stream",
          "text": [
            "x is not 4\n",
            "program ended\n"
          ]
        }
      ],
      "source": [
        "x = 3\n",
        "if x == 4:\n",
        "  print(\"x is 4\")\n",
        "else:\n",
        "  print(\"x is not 4\")\n",
        "  print(\"program ended\")\n",
        "\n",
        "\n"
      ]
    },
    {
      "cell_type": "code",
      "execution_count": null,
      "metadata": {
        "colab": {
          "base_uri": "https://localhost:8080/"
        },
        "id": "vrBWpoOgC1G0",
        "outputId": "08f02812-871a-467a-878c-a144316b841c"
      },
      "outputs": [
        {
          "name": "stdout",
          "output_type": "stream",
          "text": [
            "x is 5\n"
          ]
        }
      ],
      "source": [
        "x = 5\n",
        "if x == 5:\n",
        "  print(\"x is 5\")\n",
        "else:\n",
        "  print(\"x is not 5\")\n",
        "  print(\"program ended\")"
      ]
    },
    {
      "cell_type": "code",
      "execution_count": null,
      "metadata": {
        "colab": {
          "base_uri": "https://localhost:8080/"
        },
        "id": "8579a029",
        "outputId": "d2b57c60-e3bc-4055-c6ee-d58a9203cc64"
      },
      "outputs": [
        {
          "name": "stdout",
          "output_type": "stream",
          "text": [
            "Enter the temp: 42\n",
            "cannot go for a walk\n"
          ]
        }
      ],
      "source": [
        "temp = int(input(\"Enter the temp: \"))\n",
        "\n",
        "if 15 <= temp <= 40:\n",
        "  print(\"can go for a walk\")\n",
        "else:\n",
        "  print(\"cannot go for a walk\")"
      ]
    },
    {
      "cell_type": "code",
      "execution_count": null,
      "metadata": {
        "colab": {
          "base_uri": "https://localhost:8080/"
        },
        "id": "1eQqbwGnFrHU",
        "outputId": "d57e0844-7f4e-4afe-bb68-0dfd133974b9"
      },
      "outputs": [
        {
          "name": "stdout",
          "output_type": "stream",
          "text": [
            "Enter the temp: 15\n",
            "can go for a walk\n"
          ]
        }
      ],
      "source": [
        "temp = int(input(\"Enter the temp: \"))\n",
        "\n",
        "if 15 <= temp <= 40:\n",
        "  print(\"can go for a walk\")\n",
        "else:\n",
        "  print(\"cannot go for a walk\")\n",
        "  print(\"program ended\")\n"
      ]
    },
    {
      "cell_type": "code",
      "execution_count": null,
      "metadata": {
        "colab": {
          "base_uri": "https://localhost:8080/"
        },
        "id": "eQ3crJ3qGi-E",
        "outputId": "e45cdb75-6da4-4b5c-bc9b-80b16387c81b"
      },
      "outputs": [
        {
          "name": "stdout",
          "output_type": "stream",
          "text": [
            "enter the temp:30\n",
            "can go for walk\n"
          ]
        }
      ],
      "source": [
        "temp=int(input(\"enter the temp:\"))\n",
        "if 15<=temp<=40:\n",
        "  print(\"can go for walk\")\n",
        "else:\n",
        "  print(\"cannot go for walk\")\n",
        "  print(\"program ended\")\n"
      ]
    },
    {
      "cell_type": "code",
      "execution_count": null,
      "metadata": {
        "colab": {
          "base_uri": "https://localhost:8080/"
        },
        "id": "uhK_9cpvHvfM",
        "outputId": "d3bd8f41-5787-4cfa-a35c-407985a4b095"
      },
      "outputs": [
        {
          "name": "stdout",
          "output_type": "stream",
          "text": [
            "a is less then b\n"
          ]
        }
      ],
      "source": [
        "a=10\n",
        "b=20\n",
        "if a<b:\n",
        "  print(\"a is less then b\")\n",
        "else:\n",
        "  print(\"a is greater then b\")"
      ]
    },
    {
      "cell_type": "code",
      "execution_count": null,
      "metadata": {
        "colab": {
          "base_uri": "https://localhost:8080/"
        },
        "id": "bfl7R3HUJU9V",
        "outputId": "be990323-f05d-477f-e9de-199b401e62fb"
      },
      "outputs": [
        {
          "name": "stdout",
          "output_type": "stream",
          "text": [
            "enter the number20\n",
            "enter the number10\n",
            "a is greater then b\n"
          ]
        }
      ],
      "source": [
        "a=int(input(\"enter the number\"))\n",
        "b=int(input(\"enter the number\"))\n",
        "if a>b:\n",
        "  print(\"a is greater then b\")\n",
        "else:\n",
        "  print(\"a is less then b\")"
      ]
    },
    {
      "cell_type": "code",
      "execution_count": null,
      "metadata": {
        "colab": {
          "base_uri": "https://localhost:8080/"
        },
        "id": "PZMSMkoeLQmN",
        "outputId": "54534627-cef8-4544-989c-49b69ba704b2"
      },
      "outputs": [
        {
          "name": "stdout",
          "output_type": "stream",
          "text": [
            "enter the number-1\n",
            "a is negative \n"
          ]
        }
      ],
      "source": [
        "a=int(input(\"enter the number\"))\n",
        "\n",
        "if a>=0:\n",
        "  print(\"a is positive \")\n",
        "else:\n",
        "  print(\"a is negative \")"
      ]
    },
    {
      "cell_type": "code",
      "execution_count": null,
      "metadata": {
        "colab": {
          "base_uri": "https://localhost:8080/"
        },
        "id": "HBbSeiymNglN",
        "outputId": "2ee76a71-862d-4160-a39e-9fb119c9ab1c"
      },
      "outputs": [
        {
          "name": "stdout",
          "output_type": "stream",
          "text": [
            "lucky\n"
          ]
        }
      ],
      "source": [
        "a = 4\n",
        "b = 6\n",
        "\n",
        "if ((a==6 and b==6)or (a+b==6)or (a-b==6)or (a-b)):\n",
        "\n",
        "   print(\"lucky\")\n",
        "else:\n",
        "   print(\"unlucky\")\n"
      ]
    },
    {
      "cell_type": "code",
      "execution_count": null,
      "metadata": {
        "colab": {
          "base_uri": "https://localhost:8080/"
        },
        "id": "T_d7f4XrPeZV",
        "outputId": "f3bb2f8c-1e2b-4b6a-bbb4-b2a51ecbe5c4"
      },
      "outputs": [
        {
          "name": "stdout",
          "output_type": "stream",
          "text": [
            "Enter the number of sides: 4\n",
            "Quadrilateral\n"
          ]
        }
      ],
      "source": [
        "N = int(input(\"Enter the number of sides: \"))\n",
        "\n",
        "if N == 3:\n",
        "  print(\"Triangle\")\n",
        "elif N == 4:\n",
        "  print(\"Quadrilateral\")\n",
        "elif N == 5:\n",
        "  print(\"Pentagon\")\n",
        "else:\n",
        "  print(\"Polygon name not commonly known for this number of sides.\")"
      ]
    },
    {
      "cell_type": "code",
      "execution_count": null,
      "metadata": {
        "colab": {
          "base_uri": "https://localhost:8080/"
        },
        "id": "DmPRzbdAaeJf",
        "outputId": "62761bb1-73f7-4c63-b95f-718c5050c596"
      },
      "outputs": [
        {
          "name": "stdout",
          "output_type": "stream",
          "text": [
            "c is greater then a and b\n"
          ]
        }
      ],
      "source": [
        "a=10\n",
        "b=20\n",
        "c=30\n",
        "if a>b and a>C:\n",
        "  print(\"greter then b and c\")\n",
        "elif b>a and b>c:\n",
        "  print(\"b is greater then a and c\")\n",
        "else:\n",
        "  print(\"c is greater then a and b\")"
      ]
    },
    {
      "cell_type": "code",
      "execution_count": null,
      "metadata": {
        "colab": {
          "base_uri": "https://localhost:8080/"
        },
        "id": "d9he24b2akb3",
        "outputId": "d602600f-245c-4b30-888c-21d837e30c9a"
      },
      "outputs": [
        {
          "name": "stdout",
          "output_type": "stream",
          "text": [
            "a bigger then b and c\n"
          ]
        }
      ],
      "source": [
        "a=80\n",
        "b=40\n",
        "c=50\n",
        "if a>b and a>c:\n",
        "  print(\"a bigger then b and c\")\n",
        "elif b>a and b>c:\n",
        "  print(\"b is bigger then a AND C\")\n",
        "else:\n",
        "  print(\"c is bigger then a and b\")\n"
      ]
    },
    {
      "cell_type": "code",
      "execution_count": null,
      "metadata": {
        "colab": {
          "base_uri": "https://localhost:8080/"
        },
        "id": "7f894d0b",
        "outputId": "2efc7e55-b2f9-416c-f465-bd60ff107f22"
      },
      "outputs": [
        {
          "name": "stdout",
          "output_type": "stream",
          "text": [
            "Allowed to Exam-Has Hall ticket\n"
          ]
        }
      ],
      "source": [
        "H = \"Y\"\n",
        "I = \"N\"\n",
        "if H == \"Y\":\n",
        "  print(\"Allowed to Exam-Has Hall ticket\")\n",
        "elif H != \"Y\" and I == \"Y\":\n",
        "  print(\"Allowed to Exam - Has no hall ticket\")\n",
        "else:\n",
        "  print(\"not alowed to exam\")"
      ]
    },
    {
      "cell_type": "code",
      "execution_count": null,
      "metadata": {
        "colab": {
          "base_uri": "https://localhost:8080/"
        },
        "id": "35905a75",
        "outputId": "f8d54dca-9368-4183-d265-13530e352b45"
      },
      "outputs": [
        {
          "name": "stdout",
          "output_type": "stream",
          "text": [
            "Enter the number of units consumed: 200\n",
            "Total electricity charge: 650\n"
          ]
        }
      ],
      "source": [
        "units = int(input(\"Enter the number of units consumed: \"))\n",
        "\n",
        "total_charge = 0\n",
        "\n",
        "if units <= 50:\n",
        "  total_charge = units * 2\n",
        "elif units <= 150:\n",
        "  total_charge = (50 * 2) + ((units - 50) * 3)\n",
        "elif units <= 250:\n",
        "  total_charge = (50 * 2) + (100 * 3) + ((units - 150) * 5)\n",
        "else:\n",
        "  total_charge = (50 * 2) + (100 * 3) + (100 * 5) + ((units - 250) * 8)\n",
        "\n",
        "print(\"Total electricity charge:\", total_charge)"
      ]
    },
    {
      "cell_type": "code",
      "execution_count": null,
      "metadata": {
        "colab": {
          "base_uri": "https://localhost:8080/"
        },
        "id": "hqf1WpJN2MmM",
        "outputId": "7a4362fa-3b1d-4d0a-9f11-a4bc74d34776"
      },
      "outputs": [
        {
          "name": "stdout",
          "output_type": "stream",
          "text": [
            "200\n",
            "780\n"
          ]
        }
      ],
      "source": [
        "bill_amount =int(input())\n",
        "\n",
        "if (bill_amount<=50):\n",
        "  total = (bill_amount*2)\n",
        "  sub_charges=total*0.2\n",
        "  print(int(total+sub_charges))\n",
        "\n",
        "elif(bill_amount<=150):\n",
        "    total = (50*2)+(bill_amount-50)*3\n",
        "    sub_charges=total*0.2\n",
        "    print(int(total+sub_charges))\n",
        "\n",
        "elif(bill_amount<=250):\n",
        "    total = (50*2)+(100*3)+(bill_amount-150)*5\n",
        "    sub_charges=total*0.2\n",
        "    print(int(total+sub_charges))\n",
        "\n",
        "elif(bill_amount>250):\n",
        "    total = (50*2)+(100*3)+(100*5)+(bill_amount-250)*8\n",
        "    sub_charges=total*0.2\n",
        "    print(total+sub_charges)"
      ]
    },
    {
      "cell_type": "code",
      "execution_count": null,
      "metadata": {
        "colab": {
          "base_uri": "https://localhost:8080/"
        },
        "id": "gG1nQOAv-wNl",
        "outputId": "8c1fe80e-119d-471a-cd9c-0dce948f4568"
      },
      "outputs": [
        {
          "name": "stdout",
          "output_type": "stream",
          "text": [
            "Enter the student's marks: 85\n",
            "B\n"
          ]
        }
      ],
      "source": [
        "marks = int(input(\"Enter the student's marks: \"))\n",
        "\n",
        "if marks > 85:\n",
        "  grade = \"A\"\n",
        "elif marks > 70 and marks <= 85:\n",
        "  grade = \"B\"\n",
        "elif marks >= 60 and marks <= 70:\n",
        "  grade = \"C\"\n",
        "else:\n",
        "  grade = \"F\"\n",
        "\n",
        "print(grade)"
      ]
    },
    {
      "cell_type": "code",
      "execution_count": null,
      "metadata": {
        "colab": {
          "base_uri": "https://localhost:8080/"
        },
        "id": "d6oQlmlw_67-",
        "outputId": "ee839781-40e8-4cf7-bfc4-80535772911e"
      },
      "outputs": [
        {
          "name": "stdout",
          "output_type": "stream",
          "text": [
            "Enter the time: 1200\n",
            "Good Afternoon\n"
          ]
        }
      ],
      "source": [
        "time = int(input(\"Enter the time: \"))\n",
        "if time < 1200:\n",
        "  print(\"Good Morning\")\n",
        "elif time < 1800: # Assuming military time for afternoon\n",
        "  print(\"Good Afternoon\")\n",
        "else:\n",
        "  print(\"Good Evening\")"
      ]
    },
    {
      "cell_type": "code",
      "execution_count": null,
      "metadata": {
        "colab": {
          "base_uri": "https://localhost:8080/"
        },
        "id": "SuLTEqxRA0De",
        "outputId": "4209e25e-bddc-43b9-8721-8c44e2a5b366"
      },
      "outputs": [
        {
          "name": "stdout",
          "output_type": "stream",
          "text": [
            "14\n"
          ]
        }
      ],
      "source": [
        "a=\"+\"\n",
        "b=10\n",
        "c=4\n",
        "if a==\"+\":\n",
        "  print(b+c)\n",
        "elif a==\"-\":\n",
        "  print(b-c)\n",
        "elif a==\"*\":\n",
        "  print(b*c)\n",
        "\n",
        "\n"
      ]
    },
    {
      "cell_type": "code",
      "execution_count": null,
      "metadata": {
        "colab": {
          "base_uri": "https://localhost:8080/"
        },
        "id": "xo_TLv56Cczm",
        "outputId": "e00b8d09-0453-4813-cafa-9b8fc4d5b6c4"
      },
      "outputs": [
        {
          "name": "stdout",
          "output_type": "stream",
          "text": [
            "2.4634146341463414\n"
          ]
        }
      ],
      "source": [
        "a=\"/\"\n",
        "b=101\n",
        "c=41\n",
        "if a==\"+\":\n",
        "  print(b+c)\n",
        "elif a==\"-\":\n",
        "  print(b-c)\n",
        "elif a==\"*\":\n",
        "  print(b*c)\n",
        "elif a==\"/\":\n",
        "  print(b/c)"
      ]
    },
    {
      "cell_type": "code",
      "execution_count": null,
      "metadata": {
        "colab": {
          "base_uri": "https://localhost:8080/"
        },
        "id": "nfiXk1QmGrQX",
        "outputId": "a4af1f30-794a-4f44-cd8a-ddc01a35e44e"
      },
      "outputs": [
        {
          "name": "stdout",
          "output_type": "stream",
          "text": [
            "34H\n",
            "3400\n"
          ]
        }
      ],
      "source": [
        "a=input()\n",
        "b=a[-1]\n",
        "c=a[0:len(a)-1]\n",
        "d=int(c)\n",
        "if(b==\"T\"):\n",
        "  print(d*10)\n",
        "elif(b==\"H\"):\n",
        "  print(d*100)\n",
        "elif(b==\"Z\"):\n",
        "  print(d*0)"
      ]
    },
    {
      "cell_type": "code",
      "execution_count": null,
      "metadata": {
        "colab": {
          "base_uri": "https://localhost:8080/"
        },
        "id": "Mf3tsGyiMEg_",
        "outputId": "2fa574c0-6dea-4704-c874-9da2fbd8dd1f"
      },
      "outputs": [
        {
          "name": "stdout",
          "output_type": "stream",
          "text": [
            "enter the string=25\n",
            "7\n"
          ]
        }
      ],
      "source": [
        "a=(input(\"enter the string=\"))\n",
        "b=a[0]\n",
        "c=a[1]\n",
        "d=int(b)\n",
        "e=int(c)\n",
        "print(d+e)\n"
      ]
    },
    {
      "cell_type": "code",
      "execution_count": null,
      "metadata": {
        "colab": {
          "base_uri": "https://localhost:8080/"
        },
        "id": "-31Anq3mMyA3",
        "outputId": "0e5377bc-d6c7-4c3b-daaa-d57fe8c86226"
      },
      "outputs": [
        {
          "name": "stdout",
          "output_type": "stream",
          "text": [
            "21\n"
          ]
        }
      ],
      "source": [
        "a=\"696\"\n",
        "b=a[0]\n",
        "c=a[1]\n",
        "d=a[2]\n",
        "print(int(b)+int(c)+int(d))"
      ]
    },
    {
      "cell_type": "code",
      "execution_count": null,
      "metadata": {
        "id": "CwqaavRtNwc2"
      },
      "outputs": [],
      "source": [
        "\n",
        "\n"
      ]
    },
    {
      "cell_type": "code",
      "execution_count": null,
      "metadata": {
        "colab": {
          "base_uri": "https://localhost:8080/"
        },
        "id": "235fdb8e",
        "outputId": "e3e7df70-d03e-43ca-d69b-9a96e390ef38"
      },
      "outputs": [
        {
          "name": "stdout",
          "output_type": "stream",
          "text": [
            "Enter the day number (1-7): 5\n",
            "Friday\n"
          ]
        }
      ],
      "source": [
        "day_number = int(input(\"Enter the day number (1-7): \"))\n",
        "\n",
        "if day_number == 1:\n",
        "  print(\"Monday\")\n",
        "elif day_number == 2:\n",
        "  print(\"Tuesday\")\n",
        "elif day_number == 3:\n",
        "  print(\"Wednesday\")\n",
        "elif day_number == 4:\n",
        "  print(\"Thursday\")\n",
        "elif day_number == 5:\n",
        "  print(\"Friday\")\n",
        "elif day_number == 6:\n",
        "  print(\"Saturday\")\n",
        "elif day_number == 7:\n",
        "  print(\"Sunday\")\n",
        "else:\n",
        "  print(\"Invalid day number. Please enter a number between 1 and 7.\")"
      ]
    },
    {
      "cell_type": "code",
      "execution_count": null,
      "metadata": {
        "colab": {
          "base_uri": "https://localhost:8080/"
        },
        "id": "2923f4b5",
        "outputId": "a76d7ec7-e01b-4ec7-d83d-f238714f1f60"
      },
      "outputs": [
        {
          "name": "stdout",
          "output_type": "stream",
          "text": [
            "Enter the number of 5 rupee notes: 10000\n",
            "Enter the number of 1 rupee notes: 60\n",
            "Total value: 50060\n"
          ]
        }
      ],
      "source": [
        "five_rupee_notes = int(input(\"Enter the number of 5 rupee notes: \"))\n",
        "one_rupee_notes = int(input(\"Enter the number of 1 rupee notes: \"))\n",
        "\n",
        "total_value = (five_rupee_notes * 5) + (one_rupee_notes * 1)\n",
        "\n",
        "print(f\"Total value: {total_value}\")"
      ]
    },
    {
      "cell_type": "code",
      "execution_count": null,
      "metadata": {
        "colab": {
          "base_uri": "https://localhost:8080/"
        },
        "id": "ja2cqQpITeCH",
        "outputId": "b9d77474-79e3-4575-be35-f5417da1349e"
      },
      "outputs": [
        {
          "name": "stdout",
          "output_type": "stream",
          "text": [
            "enter the number=57\n",
            "5: 11\n",
            "1: 2\n"
          ]
        }
      ],
      "source": [
        "a=int(input(\"enter the number=\"))\n",
        "b=a/5\n",
        "c=a%5\n",
        "print(\"5:\",int(b))\n",
        "print(\"1:\",c)"
      ]
    },
    {
      "cell_type": "code",
      "execution_count": null,
      "metadata": {
        "colab": {
          "base_uri": "https://localhost:8080/"
        },
        "id": "ChXOMw3aZXJA",
        "outputId": "d7b5bc27-7c63-4978-ce75-bc600ba17c22"
      },
      "outputs": [
        {
          "name": "stdout",
          "output_type": "stream",
          "text": [
            "[0, 1]\n"
          ]
        }
      ],
      "source": [
        "def two_sum(nums, target):\n",
        "    # Dictionary to store number and its index\n",
        "    seen = {}\n",
        "\n",
        "    for i, num in enumerate(nums):\n",
        "        # Calculate the required number\n",
        "        complement = target - num\n",
        "\n",
        "        # If complement is already in dictionary, we found the pair\n",
        "        if complement in seen:\n",
        "            return [seen[complement], i]\n",
        "\n",
        "        # Otherwise store the current number with its index\n",
        "        seen[num] = i\n",
        "\n",
        "\n",
        "# ✅ Example usage\n",
        "nums = [2, 7, 11, 15]\n",
        "target = 9\n",
        "print(two_sum(nums, target))   # Output: [0, 1]\n"
      ]
    },
    {
      "cell_type": "code",
      "execution_count": null,
      "metadata": {
        "colab": {
          "base_uri": "https://localhost:8080/"
        },
        "id": "7jSTCJrGZ1E8",
        "outputId": "92532a6a-6a7e-49a0-a856-d718961c9c5a"
      },
      "outputs": [
        {
          "name": "stdout",
          "output_type": "stream",
          "text": [
            "[0, 1]\n"
          ]
        }
      ],
      "source": [
        "def two_sum(nums, target):\n",
        "    # Check every pair\n",
        "    for i in range(len(nums)):\n",
        "        for j in range(i + 1, len(nums)):\n",
        "            if nums[i] + nums[j] == target:\n",
        "                return [i, j]\n",
        "\n",
        "# ✅ Example usage\n",
        "nums = [2, 7, 11, 15]\n",
        "target = 9\n",
        "print(two_sum(nums, target))   # Output: [0, 1]\n"
      ]
    },
    {
      "cell_type": "code",
      "execution_count": null,
      "metadata": {
        "colab": {
          "base_uri": "https://localhost:8080/"
        },
        "id": "OS0C_4V-So9H",
        "outputId": "b9b91ade-825e-401a-9489-020651429f8d"
      },
      "outputs": [
        {
          "name": "stdout",
          "output_type": "stream",
          "text": [
            "Heads\n"
          ]
        }
      ],
      "source": [
        "import random\n",
        "\n",
        "num = random.randint(0, 1)   # Generates a random number that's either 0 or 1\n",
        "\n",
        "if num > 0.5:\n",
        "  print('Heads')\n",
        "else:\n",
        "  print('Tails')"
      ]
    },
    {
      "cell_type": "code",
      "execution_count": null,
      "metadata": {
        "colab": {
          "base_uri": "https://localhost:8080/"
        },
        "id": "XQQnEyimT5up",
        "outputId": "c29a4f70-304d-4153-fcbb-f737fb2462f1"
      },
      "outputs": [
        {
          "name": "stdout",
          "output_type": "stream",
          "text": [
            "enter the grade=35\n",
            "You failed\n"
          ]
        }
      ],
      "source": [
        "# Write code below 💖\n",
        "grade=int(input(\"enter the grade=\"))\n",
        "if grade>=55:\n",
        " print('You passed')\n",
        "else:\n",
        " print('You failed')"
      ]
    },
    {
      "cell_type": "code",
      "execution_count": null,
      "metadata": {
        "colab": {
          "base_uri": "https://localhost:8080/"
        },
        "id": "3khmKkXOWv6X",
        "outputId": "55870f59-9fcf-438e-84e0-193e9de15f7b"
      },
      "outputs": [
        {
          "name": "stdout",
          "output_type": "stream",
          "text": [
            "Enter a pH value (0-14): 7\n",
            "Neutral\n"
          ]
        }
      ],
      "source": [
        "# ph_levels.py\n",
        "\n",
        "# Ask the user for a pH value\n",
        "ph = float(input(\"Enter a pH value (0-14): \"))\n",
        "\n",
        "if ph > 7:\n",
        "    print(\"Basic\")\n",
        "elif ph < 7:\n",
        "    print(\"Acidic\")\n",
        "else:\n",
        "    print(\"Neutral\")\n"
      ]
    },
    {
      "cell_type": "code",
      "execution_count": null,
      "metadata": {
        "id": "N9uAfFd_YGo9"
      },
      "outputs": [],
      "source": [
        "# magic8.py\n",
        "import random\n",
        "\n",
        "# List of possible Magic 8 Ball answers\n",
        "answers = [\n",
        "    \"Yes - definitely.\",\n",
        "    \"It is decidedly so.\",\n",
        "    \"Without a doubt.\",\n",
        "    \"Reply hazy, try again.\",\n",
        "    \"Ask again later.\",\n",
        "    \"Better not tell you now.\",\n",
        "    \"My sources say no.\",\n",
        "    \"Outlook not so good.\",\n",
        "    \"Very doubtful.\"\n",
        "]\n",
        "\n",
        "# Ask the user for a Yes/No question\n",
        "question = input(\"Ask a Yes/No question: \")\n",
        "\n",
        "# Pick a random answer\n",
        "response = random.choice(answers)\n",
        "\n",
        "# Show the Magic 8 Ball's response\n",
        "print(\"🎱 Magic 8 Ball says:\", response)\n"
      ]
    },
    {
      "cell_type": "code",
      "execution_count": null,
      "metadata": {
        "id": "nQJsKz1ZYr-w"
      },
      "outputs": [],
      "source": [
        "# the_cyclone.py\n",
        "\n",
        "# Ask the user for their height and credits\n",
        "height = int(input(\"Enter your height in cm: \"))\n",
        "credits = int(input(\"Enter how many credits you have: \"))\n",
        "\n",
        "# Rules for the ride\n",
        "if height >= 137 and credits >= 10:\n",
        "    print(\"Enjoy the ride!\")\n",
        "elif credits >= 10 and height < 137:\n",
        "    print(\"You are not tall enough to ride.\")\n",
        "elif height >= 137 and credits < 10:\n",
        "    print(\"You don't have enough credits.\")\n",
        "else:\n",
        "    print(\"You have not met either requirement.\")\n"
      ]
    },
    {
      "cell_type": "code",
      "execution_count": null,
      "metadata": {
        "id": "wOs9bWfyZu6A"
      },
      "outputs": [],
      "source": [
        "# sorting_hat.py\n",
        "\n",
        "# Initialize house points\n",
        "gryffindor = 0\n",
        "ravenclaw = 0\n",
        "hufflepuff = 0\n",
        "slytherin = 0\n",
        "\n",
        "# Q1\n",
        "print(\"Q1) Do you like Dawn or Dusk?\")\n",
        "print(\"  1) Dawn\")\n",
        "print(\"  2) Dusk\")\n",
        "answer = int(input(\"Enter your answer (1-2): \"))\n",
        "\n",
        "if answer == 1:\n",
        "    gryffindor += 1\n",
        "    ravenclaw += 1\n",
        "elif answer == 2:\n",
        "    hufflepuff += 1\n",
        "    slytherin += 1\n",
        "else:\n",
        "    print(\"Wrong input.\")\n",
        "\n",
        "# Q2\n",
        "print(\"\\nQ2) When I’m dead, I want people to remember me as:\")\n",
        "print(\"  1) The Good\")\n",
        "print(\"  2) The Great\")\n",
        "print(\"  3) The Wise\")\n",
        "print(\"  4) The Bold\")\n",
        "answer = int(input(\"Enter your answer (1-4): \"))\n",
        "\n",
        "if answer == 1:\n",
        "    hufflepuff += 2\n",
        "elif answer == 2:\n",
        "    slytherin += 2\n",
        "elif answer == 3:\n",
        "    ravenclaw += 2\n",
        "elif answer == 4:\n",
        "    gryffindor += 2\n",
        "else:\n",
        "    print(\"Wrong input.\")\n",
        "\n",
        "# Q3\n",
        "print(\"\\nQ3) Which kind of instrument most pleases your ear?\")\n",
        "print(\"  1) The violin\")\n",
        "print(\"  2) The trumpet\")\n",
        "print(\"  3) The piano\")\n",
        "print(\"  4) The drum\")\n",
        "answer = int(input(\"Enter your answer (1-4): \"))\n",
        "\n",
        "if answer == 1:\n",
        "    slytherin += 4\n",
        "elif answer == 2:\n",
        "    hufflepuff += 4\n",
        "elif answer == 3:\n",
        "    ravenclaw += 4\n",
        "elif answer == 4:\n",
        "    gryffindor += 4\n",
        "else:\n",
        "    print(\"Wrong input.\")\n",
        "\n",
        "# Print scores\n",
        "print(\"\\nFinal Scores:\")\n",
        "print(\"Gryffindor:\", gryffindor)\n",
        "print(\"Ravenclaw:\", ravenclaw)\n",
        "print(\"Hufflepuff:\", hufflepuff)\n",
        "print(\"Slytherin:\", slytherin)\n",
        "\n",
        "# Bonus: Find the house with the most points\n",
        "houses = {\n",
        "    \"Gryffindor\": gryffindor,\n",
        "    \"Ravenclaw\": ravenclaw,\n",
        "    \"Hufflepuff\": hufflepuff,\n",
        "    \"Slytherin\": slytherin\n",
        "}\n",
        "\n",
        "max_house = max(houses, key=houses.get)\n",
        "print(\"\\n🏆 The Sorting Hat says:\", max_house, \"!!\")\n"
      ]
    },
    {
      "cell_type": "code",
      "execution_count": null,
      "metadata": {
        "colab": {
          "base_uri": "https://localhost:8080/"
        },
        "id": "Lg0DU1CyalRB",
        "outputId": "6e770346-747c-452a-fe07-48d8cdd26167"
      },
      "outputs": [
        {
          "name": "stdout",
          "output_type": "stream",
          "text": [
            "Q1) Do you like Dawn or Dusk?\n",
            "  1) Dawn\n",
            "  2) Dusk\n",
            "Enter your answer (1-2): 2\n"
          ]
        }
      ],
      "source": [
        "# Initialize house points\n",
        "gryffindor = 0\n",
        "ravenclaw = 0\n",
        "hufflepuff = 0\n",
        "slytherin = 0\n",
        "\n",
        "print(\"Q1) Do you like Dawn or Dusk?\")\n",
        "print(\"  1) Dawn\")\n",
        "print(\"  2) Dusk\")\n",
        "answer = int(input(\"Enter your answer (1-2): \"))\n",
        "\n",
        "if answer == 1:\n",
        "    gryffindor += 1\n",
        "    ravenclaw += 1\n",
        "elif answer == 2:\n",
        "    hufflepuff += 1\n",
        "    slytherin += 1\n",
        "else:\n",
        "    print(\"Wrong input.\")"
      ]
    },
    {
      "cell_type": "code",
      "execution_count": null,
      "metadata": {
        "colab": {
          "base_uri": "https://localhost:8080/"
        },
        "id": "AB18rCygasLe",
        "outputId": "f1d98ca7-1f45-481c-dc41-32ccb4742d05"
      },
      "outputs": [
        {
          "name": "stdout",
          "output_type": "stream",
          "text": [
            "\n",
            "Q2) When I’m dead, I want people to remember me as:\n",
            "  1) The Good\n",
            "  2) The Great\n",
            "  3) The Wise\n",
            "  4) The Bold\n",
            "Enter your answer (1-4): 7\n",
            "Wrong input.\n"
          ]
        }
      ],
      "source": [
        "\n",
        "\n",
        "# Q2\n",
        "print(\"\\nQ2) When I’m dead, I want people to remember me as:\")\n",
        "print(\"  1) The Good\")\n",
        "print(\"  2) The Great\")\n",
        "print(\"  3) The Wise\")\n",
        "print(\"  4) The Bold\")\n",
        "answer = int(input(\"Enter your answer (1-4): \"))\n",
        "\n",
        "if answer == 1:\n",
        "    hufflepuff += 2\n",
        "elif answer == 2:\n",
        "    slytherin += 2\n",
        "elif answer == 3:\n",
        "    ravenclaw += 2\n",
        "elif answer == 4:\n",
        "    gryffindor += 2\n",
        "else:\n",
        "    print(\"Wrong input.\")\n"
      ]
    },
    {
      "cell_type": "code",
      "execution_count": null,
      "metadata": {
        "colab": {
          "base_uri": "https://localhost:8080/"
        },
        "id": "f1eZWhWOg7wx",
        "outputId": "7207f07f-953c-4ef9-d43a-5ce95d3b11eb"
      },
      "outputs": [
        {
          "name": "stdout",
          "output_type": "stream",
          "text": [
            "BANK OF CODÉDEX\n",
            "Enter your PIN: 1234\n",
            "PIN accepted!\n"
          ]
        }
      ],
      "source": [
        "print('BANK OF CODÉDEX')\n",
        "\n",
        "pin = int(input('Enter your PIN: '))\n",
        "\n",
        "while pin != 1234:\n",
        "    pin = int(input('Incorrect PIN. Enter your PIN again: '))\n",
        "\n",
        "if pin == 1234:\n",
        "    print('PIN accepted!')\n"
      ]
    },
    {
      "cell_type": "code",
      "execution_count": null,
      "metadata": {
        "colab": {
          "base_uri": "https://localhost:8080/"
        },
        "id": "dkm-prwEifNz",
        "outputId": "78a55c47-ec6a-49af-cbc2-775d53d8d68c"
      },
      "outputs": [
        {
          "name": "stdout",
          "output_type": "stream",
          "text": [
            "Guess the number:  5\n",
            "Guess the number:  1\n",
            "Guess the number:  3\n",
            "Guess the number:  6\n",
            "You got it!\n"
          ]
        }
      ],
      "source": [
        "\n",
        "guess=0\n",
        "tries=0\n",
        "\n",
        "while guess != 6 and tries <5:\n",
        "  guess = int(input(\"Guess the number:  \"))\n",
        "\n",
        "print(\"You got it!\")\n"
      ]
    },
    {
      "cell_type": "code",
      "execution_count": null,
      "metadata": {
        "colab": {
          "base_uri": "https://localhost:8080/"
        },
        "id": "ewACrMM0jIhw",
        "outputId": "85690b32-e163-4900-818d-bc970c0cd451"
      },
      "outputs": [
        {
          "name": "stdout",
          "output_type": "stream",
          "text": [
            "Guess the number: 6\n",
            "You got it!\n"
          ]
        }
      ],
      "source": [
        "guess = 0\n",
        "tries = 0   # count how many times the player has guessed\n",
        "limit = 3   # maximum number of tries\n",
        "\n",
        "while guess != 6 and tries < limit:\n",
        "    guess = int(input(\"Guess the number: \"))\n",
        "    tries += 1   # add 1 after each try\n",
        "\n",
        "if guess == 6:\n",
        "    print(\"You got it!\")\n",
        "else:\n",
        "    print(\"Out of tries! The number was 6.\")\n"
      ]
    },
    {
      "cell_type": "markdown",
      "metadata": {
        "id": "YqNdD-EX3P15"
      },
      "source": [
        "Day-4"
      ]
    },
    {
      "cell_type": "code",
      "execution_count": null,
      "metadata": {
        "colab": {
          "base_uri": "https://localhost:8080/"
        },
        "id": "4BFBKcPIjWQc",
        "outputId": "9ca22d7c-f991-4778-8920-c9bb811285c1"
      },
      "outputs": [
        {
          "name": "stdout",
          "output_type": "stream",
          "text": [
            "owesraza owesraza \n"
          ]
        }
      ],
      "source": [
        "a= \"owesraza \"\n",
        "n=2\n",
        "print(a *n)\n",
        "\n"
      ]
    },
    {
      "cell_type": "code",
      "execution_count": null,
      "metadata": {
        "colab": {
          "base_uri": "https://localhost:8080/"
        },
        "id": "XwA1IlyCQLN_",
        "outputId": "79aa85df-9ccc-408c-f882-d99d29f03504"
      },
      "outputs": [
        {
          "name": "stdout",
          "output_type": "stream",
          "text": [
            "enter the string:23\n",
            "2323\n",
            "enter the integer:23\n",
            "2323232323232323232323232323232323232323232323\n"
          ]
        }
      ],
      "source": [
        "a=input(input(\"enter the string:\"))\n",
        "n=int(input(\"enter the integer:\"))\n",
        "print((a+\"\") * n)\n"
      ]
    },
    {
      "cell_type": "code",
      "execution_count": null,
      "metadata": {
        "colab": {
          "base_uri": "https://localhost:8080/"
        },
        "id": "xjz9O8y7RCSf",
        "outputId": "9b06d40c-f857-4396-c19c-c77043c11c70"
      },
      "outputs": [
        {
          "name": "stdout",
          "output_type": "stream",
          "text": [
            "enter the number45\n",
            "5\n"
          ]
        }
      ],
      "source": [
        "a=int(input(\"enter the number\"))\n",
        "b=str(a)\n",
        "print(b[1])\n"
      ]
    },
    {
      "cell_type": "code",
      "execution_count": null,
      "metadata": {
        "colab": {
          "base_uri": "https://localhost:8080/"
        },
        "id": "uo_cSIy8Sghv",
        "outputId": "870abeb7-0e22-45bf-969c-604ebe7d3b4a"
      },
      "outputs": [
        {
          "name": "stdout",
          "output_type": "stream",
          "text": [
            "enter the number100\n",
            "enter the number25\n",
            "75\n"
          ]
        }
      ],
      "source": [
        "n1=int(input(\"enter the number\"))\n",
        "n2=int(input(\"enter the number\"))\n",
        "print(n1-n2)\n"
      ]
    },
    {
      "cell_type": "code",
      "execution_count": null,
      "metadata": {
        "colab": {
          "base_uri": "https://localhost:8080/"
        },
        "id": "hu44ClwuTfO2",
        "outputId": "1bfd57ba-0221-4dc1-ecc3-e7d9398c9b8b"
      },
      "outputs": [
        {
          "name": "stdout",
          "output_type": "stream",
          "text": [
            "Enter the month number (1-12): 12\n",
            "dec\n"
          ]
        }
      ],
      "source": [
        "month_number = int(input(\"Enter the month number (1-12): \"))\n",
        "\n",
        "if month_number == 1:\n",
        "  print(\"jan\")\n",
        "elif month_number == 2:\n",
        "  print(\"feb\")\n",
        "elif month_number == 3:\n",
        "  print(\"mar\")\n",
        "elif month_number == 4:\n",
        "  print(\"apr\")\n",
        "elif month_number == 5:\n",
        "  print(\"may\")\n",
        "elif month_number == 6:\n",
        "  print(\"jun\")\n",
        "elif month_number == 7:\n",
        "  print(\"july\")\n",
        "elif month_number == 8:\n",
        "  print(\"aug\")\n",
        "elif month_number == 9:\n",
        "  print(\"sep\")\n",
        "elif month_number == 10:\n",
        "  print(\"oct\")\n",
        "elif month_number == 11:\n",
        "  print(\"nov\")\n",
        "elif month_number == 12:\n",
        "  print(\"dec\")\n",
        "else:\n",
        "  print(\"Invalid month_number. Please enter a number between 1 and 12.\")"
      ]
    },
    {
      "cell_type": "code",
      "execution_count": null,
      "metadata": {
        "colab": {
          "base_uri": "https://localhost:8080/"
        },
        "id": "KsrNKoMXWrhu",
        "outputId": "d05e0d5a-9c33-4efa-a79a-ec14d2c1861f"
      },
      "outputs": [
        {
          "name": "stdout",
          "output_type": "stream",
          "text": [
            "Enter the number: 10\n",
            "Enter the number: 20\n",
            "Enter the number: 30\n",
            "Scalene\n"
          ]
        }
      ],
      "source": [
        "a= int(input(\"Enter the number: \"))\n",
        "b=int(input(\"Enter the number: \"))\n",
        "c=int(input(\"Enter the number: \"))\n",
        "\n",
        "if a==b and b==c and c==a:\n",
        "  print(\"Equilateral\")\n",
        "elif a==b or b==c or c==a:\n",
        "  print(\"Isosceles\")\n",
        "else:\n",
        "  print(\"Scalene\")"
      ]
    },
    {
      "cell_type": "code",
      "execution_count": null,
      "metadata": {
        "colab": {
          "base_uri": "https://localhost:8080/"
        },
        "id": "3E0ShQe416ok",
        "outputId": "52edd113-c333-4461-8e7a-fdd4248a35d4"
      },
      "outputs": [
        {
          "name": "stdout",
          "output_type": "stream",
          "text": [
            "1329\n",
            "3years 33weeks 3days\n"
          ]
        }
      ],
      "source": [
        "days=int(input())\n",
        "if (days>365):\n",
        "  find_years= int(days/365)\n",
        "  find_remaing_days=(days%365)\n",
        "  find_weeks=int(find_remaing_days/7)\n",
        "  find_days= find_remaing_days%7\n",
        "  print(str(find_years)+\"years \"+str(find_weeks)+\"weeks \"+str(find_days)+\"days\")\n",
        "\n",
        "elif(days<=365):\n",
        "  find_weeks= days/7\n",
        "  find_days= days%7\n",
        "  print(\"0\"+\"years \"+str(int(find_weeks))+\"weeks \"+str(find_days)+\"days\")"
      ]
    },
    {
      "cell_type": "markdown",
      "metadata": {
        "id": "xmTU6zU4iBe6"
      },
      "source": [
        "next topic loops.\n"
      ]
    },
    {
      "cell_type": "code",
      "execution_count": null,
      "metadata": {
        "colab": {
          "base_uri": "https://localhost:8080/"
        },
        "id": "_aRY42Qzg77a",
        "outputId": "9d23e68a-f6d2-4bad-c810-d067987dd49a"
      },
      "outputs": [
        {
          "name": "stdout",
          "output_type": "stream",
          "text": [
            "2\n",
            "4\n",
            "6\n",
            "8\n",
            "10\n"
          ]
        }
      ],
      "source": [
        "a=2\n",
        "b=1\n",
        "while(b<=5):\n",
        "  print(a*b)\n",
        "  b=b+1\n"
      ]
    },
    {
      "cell_type": "code",
      "execution_count": null,
      "metadata": {
        "colab": {
          "base_uri": "https://localhost:8080/"
        },
        "id": "96v_hUXHlavA",
        "outputId": "134af457-e183-417e-dc6f-50adb5bd4a37"
      },
      "outputs": [
        {
          "name": "stdout",
          "output_type": "stream",
          "text": [
            "enter the number5\n",
            "owes\n",
            "owes\n",
            "owes\n",
            "owes\n",
            "owes\n"
          ]
        }
      ],
      "source": [
        "n=int(input(\"enter the number\"))\n",
        "i=0\n",
        "while i<n:\n",
        "  print(\"owes\")\n",
        "  i=i+1"
      ]
    },
    {
      "cell_type": "code",
      "execution_count": null,
      "metadata": {
        "colab": {
          "base_uri": "https://localhost:8080/"
        },
        "id": "wQETkVLVmOWZ",
        "outputId": "6602caf9-2102-402b-f978-4f2979e368dd"
      },
      "outputs": [
        {
          "name": "stdout",
          "output_type": "stream",
          "text": [
            "12\n",
            "0\n",
            "0\n",
            "0\n",
            "0\n",
            "0\n",
            "0\n",
            "0\n",
            "0\n",
            "0\n",
            "0\n",
            "0\n",
            "0\n"
          ]
        }
      ],
      "source": [
        "a=int(input())\n",
        "i=0\n",
        "while (i<a):\n",
        "  print(\"0\")\n",
        "  i=i+1"
      ]
    },
    {
      "cell_type": "code",
      "execution_count": null,
      "metadata": {
        "colab": {
          "base_uri": "https://localhost:8080/"
        },
        "id": "5pK7q2i8mv3R",
        "outputId": "36d8eb6b-4323-4dae-9317-f9e0486241c9"
      },
      "outputs": [
        {
          "name": "stdout",
          "output_type": "stream",
          "text": [
            "5\n",
            "1\n",
            "2\n",
            "3\n",
            "4\n",
            "5\n"
          ]
        }
      ],
      "source": [
        "n=int(input())\n",
        "i=1\n",
        "while(i<=n):\n",
        "  print(i)\n",
        "  i=i+1"
      ]
    },
    {
      "cell_type": "code",
      "execution_count": null,
      "metadata": {
        "colab": {
          "base_uri": "https://localhost:8080/"
        },
        "id": "-HbXhVVSnr-x",
        "outputId": "f460b29b-8686-449e-d516-157f8c2589e7"
      },
      "outputs": [
        {
          "name": "stdout",
          "output_type": "stream",
          "text": [
            "1\n",
            "1\n",
            "2\n",
            "3\n",
            "4\n",
            "5\n",
            "6\n",
            "7\n",
            "8\n",
            "9\n",
            "10\n"
          ]
        }
      ],
      "source": [
        "table=int(input())\n",
        "i=1\n",
        "while(i<=10):\n",
        "  print(i)\n",
        "  i=i+1\n"
      ]
    },
    {
      "cell_type": "code",
      "execution_count": null,
      "metadata": {
        "colab": {
          "base_uri": "https://localhost:8080/"
        },
        "id": "tYLuD_cDpbOJ",
        "outputId": "ad3108af-f058-41e3-f801-92e40abd0873"
      },
      "outputs": [
        {
          "name": "stdout",
          "output_type": "stream",
          "text": [
            "3\n",
            "30\n",
            "40\n",
            "50\n"
          ]
        }
      ],
      "source": [
        "inputs_count=int(input())\n",
        "i=0\n",
        "while(i<inputs_count):\n",
        "  m=int(input())\n",
        "  i=i+1\n",
        "\n",
        "\n",
        "\n"
      ]
    },
    {
      "cell_type": "code",
      "execution_count": null,
      "metadata": {
        "colab": {
          "base_uri": "https://localhost:8080/"
        },
        "id": "yJRwNX-Sqwy4",
        "outputId": "08d09c9f-8985-4055-a550-16ce276fb54e"
      },
      "outputs": [
        {
          "name": "stdout",
          "output_type": "stream",
          "text": [
            "1\n",
            "50\n",
            "50\n",
            "50\n"
          ]
        }
      ],
      "source": [
        "input_count=int(input())\n",
        "i=0\n",
        "while(i<a):\n",
        "  print(m)\n",
        "  i=i+1"
      ]
    },
    {
      "cell_type": "code",
      "execution_count": null,
      "metadata": {
        "colab": {
          "base_uri": "https://localhost:8080/"
        },
        "id": "jVxl0LSArmR_",
        "outputId": "1adba017-7430-4283-d99e-e41b7d230480"
      },
      "outputs": [
        {
          "name": "stdout",
          "output_type": "stream",
          "text": [
            "1\n",
            "3\n",
            "6\n",
            "10\n",
            "15\n"
          ]
        }
      ],
      "source": [
        "a=5\n",
        "i=1\n",
        "sum=0\n",
        "while(i<6):\n",
        "  sum=sum+i\n",
        "  i=i+1\n",
        "  print(sum)\n"
      ]
    },
    {
      "cell_type": "code",
      "execution_count": null,
      "metadata": {
        "colab": {
          "base_uri": "https://localhost:8080/"
        },
        "id": "b_PT2Shys2q1",
        "outputId": "f85ce16a-9eb9-48ff-924f-57aac2f83dfc"
      },
      "outputs": [
        {
          "name": "stdout",
          "output_type": "stream",
          "text": [
            "1\n",
            "0\n"
          ]
        }
      ],
      "source": [
        "a=int(input())\n",
        "i=1\n",
        "sum=0\n",
        "while(i<a):\n",
        "  sum=sum+i\n",
        "i=i+1\n",
        "print(sum)"
      ]
    },
    {
      "cell_type": "code",
      "execution_count": null,
      "metadata": {
        "colab": {
          "base_uri": "https://localhost:8080/"
        },
        "id": "uwcbnrAtvl5f",
        "outputId": "df0ece94-7452-4f00-9552-f0bcb546431d"
      },
      "outputs": [
        {
          "name": "stdout",
          "output_type": "stream",
          "text": [
            "20\n",
            "210\n"
          ]
        }
      ],
      "source": [
        "number=int(input())\n",
        "sum=(number *(number+1))/2\n",
        "print(int(sum))"
      ]
    },
    {
      "cell_type": "code",
      "execution_count": null,
      "metadata": {
        "colab": {
          "base_uri": "https://localhost:8080/"
        },
        "id": "UJEBaVVvwjiw",
        "outputId": "752d25c5-9d8e-4740-8fbb-a64f184856ca"
      },
      "outputs": [
        {
          "name": "stdout",
          "output_type": "stream",
          "text": [
            "2\n",
            "3\n",
            "4\n",
            "5\n",
            "6\n",
            "7\n",
            "8\n",
            "9\n"
          ]
        }
      ],
      "source": [
        "n=2\n",
        "m=10\n",
        "while(n<m):\n",
        "  print(n)\n",
        "  n=n+1"
      ]
    },
    {
      "cell_type": "code",
      "execution_count": null,
      "metadata": {
        "colab": {
          "base_uri": "https://localhost:8080/"
        },
        "id": "yXw3WYENxsLH",
        "outputId": "7e435be8-e7d2-442f-9ab3-5c211192ba79"
      },
      "outputs": [
        {
          "name": "stdout",
          "output_type": "stream",
          "text": [
            "1\n",
            "5\n",
            "1\n",
            "3\n",
            "6\n",
            "10\n",
            "15\n"
          ]
        }
      ],
      "source": [
        "n=int(input())\n",
        "m=int(input())\n",
        "\n",
        "sum=0\n",
        "while(n<=m):\n",
        "  sum=sum+n\n",
        "  n=n+1\n",
        "  print(sum)"
      ]
    },
    {
      "cell_type": "code",
      "execution_count": null,
      "metadata": {
        "colab": {
          "base_uri": "https://localhost:8080/"
        },
        "id": "XQudTu8S2Gl9",
        "outputId": "fc35f2b6-691b-4725-c290-8edeadfd53ab"
      },
      "outputs": [
        {
          "name": "stdout",
          "output_type": "stream",
          "text": [
            "3\n",
            "4\n",
            "5\n",
            "6\n",
            "7\n",
            "8\n",
            "9\n",
            "10\n",
            "11\n",
            "12\n",
            "13\n",
            "14\n"
          ]
        }
      ],
      "source": [
        "starting_pos = int(input())\n",
        "eding_pos = starting_pos+10\n",
        "while (starting_pos <= ending_pos):\n",
        "    starting_pos = starting_pos+1\n",
        "    print(starting_pos)\n"
      ]
    },
    {
      "cell_type": "code",
      "execution_count": null,
      "metadata": {
        "colab": {
          "base_uri": "https://localhost:8080/"
        },
        "id": "jK0LRGNlOPwt",
        "outputId": "784ade10-1993-4742-d9fa-d270c241c12a"
      },
      "outputs": [
        {
          "name": "stdout",
          "output_type": "stream",
          "text": [
            "5\n",
            "0\n",
            "1\n",
            "3\n",
            "6\n",
            "10\n"
          ]
        }
      ],
      "source": [
        "n=int(input())\n",
        "sum=0\n",
        "for i in range(n):\n",
        "  sum=sum+i\n",
        "  print(sum)"
      ]
    },
    {
      "cell_type": "code",
      "execution_count": null,
      "metadata": {
        "colab": {
          "base_uri": "https://localhost:8080/"
        },
        "id": "ejAeMUfjUtRM",
        "outputId": "6729b222-7af0-427b-8bea-436374c400b7"
      },
      "outputs": [
        {
          "name": "stdout",
          "output_type": "stream",
          "text": [
            "o\n",
            "o\n",
            "o\n",
            "o\n"
          ]
        }
      ],
      "source": [
        "a=\"owes\"\n",
        "b=len(a)\n",
        "for i in range (b):\n",
        "  print(a[0])"
      ]
    },
    {
      "cell_type": "code",
      "execution_count": null,
      "metadata": {
        "colab": {
          "base_uri": "https://localhost:8080/"
        },
        "id": "JQ1ef5ycWy0b",
        "outputId": "34ff2ec8-28dd-4daa-d4c9-400a8aa40988"
      },
      "outputs": [
        {
          "name": "stdout",
          "output_type": "stream",
          "text": [
            "enter the number3\n",
            "enter the number2\n",
            "2\n",
            "enter the number3\n",
            "6\n",
            "enter the number7\n",
            "42\n"
          ]
        }
      ],
      "source": [
        "a=int(input(\"enter the number\"))\n",
        "p=1\n",
        "for i in range(1,a+1):\n",
        "  m=int(input(\"enter the number\"))\n",
        "  p=p*m\n",
        "  print(p)"
      ]
    },
    {
      "cell_type": "code",
      "execution_count": null,
      "metadata": {
        "colab": {
          "base_uri": "https://localhost:8080/"
        },
        "id": "WU0uMgDfb9fi",
        "outputId": "f22c65b1-439e-4d19-96ac-e576a5cfe112"
      },
      "outputs": [
        {
          "name": "stdout",
          "output_type": "stream",
          "text": [
            "2\n",
            "5\n",
            "1\n",
            "2\n"
          ]
        }
      ],
      "source": [
        "n=int(input())\n",
        "m=int(input())\n",
        "total=0\n",
        "for i in range(n,m+1):\n",
        "  if (i%2==0):\n",
        "    total=total+1\n",
        "    print(total)"
      ]
    },
    {
      "cell_type": "code",
      "execution_count": null,
      "metadata": {
        "colab": {
          "base_uri": "https://localhost:8080/"
        },
        "id": "iT8BxO6G5Wzk",
        "outputId": "a1425829-9923-4542-bd23-d86a20c0233d"
      },
      "outputs": [
        {
          "name": "stdout",
          "output_type": "stream",
          "text": [
            "2\n",
            "11\n",
            "Total even number is: \n",
            "Total odd number is: \n"
          ]
        }
      ],
      "source": [
        "n=int(input())\n",
        "m=int(input())\n",
        "even=0\n",
        "odd=0\n",
        "\n",
        "for i in range(n,m):\n",
        "  if (i%2==0):\n",
        "    even=even+1\n",
        "else:\n",
        "  odd=odd+1\n",
        "  print(\"Total even number is: \")\n",
        "  print(\"Total odd number is: \")\n"
      ]
    },
    {
      "cell_type": "code",
      "execution_count": null,
      "metadata": {
        "colab": {
          "base_uri": "https://localhost:8080/"
        },
        "id": "_5OJUsg96fvj",
        "outputId": "c25a74f9-8da1-4682-f2e6-cb62c5ae5405"
      },
      "outputs": [
        {
          "name": "stdout",
          "output_type": "stream",
          "text": [
            "*\n",
            "* *\n",
            "* * *\n",
            "* * * *\n"
          ]
        }
      ],
      "source": [
        "print(\"*\")\n",
        "print(\"* *\")\n",
        "print(\"* * *\")\n",
        "print(\"* * * *\")"
      ]
    },
    {
      "cell_type": "code",
      "execution_count": null,
      "metadata": {
        "colab": {
          "base_uri": "https://localhost:8080/"
        },
        "id": "LFqaEo3y6-DS",
        "outputId": "345d6049-9ff3-4e62-e5bf-49519df3085d"
      },
      "outputs": [
        {
          "name": "stdout",
          "output_type": "stream",
          "text": [
            "\n",
            "* \n",
            "* * \n",
            "* * * \n",
            "* * * * \n"
          ]
        }
      ],
      "source": [
        "n=5\n",
        "for i in range(n):\n",
        "  print(i* \"* \")"
      ]
    },
    {
      "cell_type": "code",
      "execution_count": null,
      "metadata": {
        "colab": {
          "base_uri": "https://localhost:8080/"
        },
        "id": "S4tsFTPP99JE",
        "outputId": "d54cf1c9-3ca1-4aef-ea76-ed6ed6d080ca"
      },
      "outputs": [
        {
          "name": "stdout",
          "output_type": "stream",
          "text": [
            "\n",
            "* \n",
            "* * \n",
            "* * * \n"
          ]
        }
      ],
      "source": [
        "n=4\n",
        "for i in range(n):\n",
        "  print(i* \"* \")"
      ]
    },
    {
      "cell_type": "code",
      "execution_count": null,
      "metadata": {
        "colab": {
          "base_uri": "https://localhost:8080/"
        },
        "id": "6e89b7ac",
        "outputId": "cf54f3be-9291-43c7-f3bc-d8f22a5f0857"
      },
      "outputs": [
        {
          "name": "stdout",
          "output_type": "stream",
          "text": [
            "Enter the size of the star box: 12\n",
            "************\n",
            "*          *\n",
            "*          *\n",
            "*          *\n",
            "*          *\n",
            "*          *\n",
            "*          *\n",
            "*          *\n",
            "*          *\n",
            "*          *\n",
            "*          *\n",
            "************\n"
          ]
        }
      ],
      "source": [
        "11111111111111111111111111111111111111111111\n",
        "def print_star_box(size):\n",
        "  \"\"\"Prints a square box of stars of the given size.\"\"\"\n",
        "  for i in range(size):\n",
        "    if i == 0 or i == size - 1:\n",
        "      # Print the top and bottom rows\n",
        "      print(\"*\" * size)\n",
        "    else:\n",
        "      # Print the middle rows with spaces inside\n",
        "      print(\"*\" + \" \" * (size - 2) + \"*\")\n",
        "\n",
        "# Get the size of the box from the user\n",
        "box_size = int(input(\"Enter the size of the star box: \"))\n",
        "\n",
        "# Print the star box\n",
        "print_star_box(box_size)"
      ]
    },
    {
      "cell_type": "code",
      "execution_count": null,
      "metadata": {
        "colab": {
          "base_uri": "https://localhost:8080/"
        },
        "id": "x26sous2BJOL",
        "outputId": "af2413e1-4236-464b-b54a-d6fd808b37f0"
      },
      "outputs": [
        {
          "name": "stdout",
          "output_type": "stream",
          "text": [
            "enter the number4\n",
            "1\n",
            "22\n",
            "333\n",
            "4444\n",
            "1\n",
            "22\n",
            "333\n",
            "4444\n"
          ]
        }
      ],
      "source": [
        "n=int(input(\"enter the number\"))\n",
        "\n",
        "for i in range(1,n+1):\n",
        "    print(str(i)*i)\n",
        "\n",
        "for i in range(1,n+1):\n",
        "    print(str(i)*i)"
      ]
    },
    {
      "cell_type": "markdown",
      "metadata": {
        "id": "JSBluH0XzSrZ"
      },
      "source": [
        "day 5 start"
      ]
    },
    {
      "cell_type": "code",
      "execution_count": null,
      "metadata": {
        "colab": {
          "base_uri": "https://localhost:8080/"
        },
        "id": "b36662c7",
        "outputId": "2f97d0ff-c7a1-483c-ed50-6114d5de2bd3"
      },
      "outputs": [
        {
          "name": "stdout",
          "output_type": "stream",
          "text": [
            "Enter the number of rows (m): 2\n",
            "Enter the number of columns (n): 3\n",
            "1 2 3 \n",
            "1 2 3 \n"
          ]
        }
      ],
      "source": [
        "m = int(input(\"Enter the number of rows (m): \"))\n",
        "n = int(input(\"Enter the number of columns (n): \"))\n",
        "\n",
        "for i in range(m):\n",
        "  for j in range(n):\n",
        "    print(j + 1, end=\" \")\n",
        "  print()"
      ]
    },
    {
      "cell_type": "code",
      "execution_count": null,
      "metadata": {
        "colab": {
          "base_uri": "https://localhost:8080/"
        },
        "id": "4n1TLQCM0nl4",
        "outputId": "c3da7691-d130-435d-fbae-e0047ffc1d35"
      },
      "outputs": [
        {
          "name": "stdout",
          "output_type": "stream",
          "text": [
            "1 2 3 4 5 \n",
            "1 2 3 4 5 \n",
            "1 2 3 4 5 \n",
            "1 2 3 4 5 \n",
            "1 2 3 4 5 \n",
            "1 2 3 4 5 \n",
            "1 2 3 4 5 \n",
            "1 2 3 4 5 \n",
            "1 2 3 4 5 \n",
            "1 2 3 4 5 \n"
          ]
        }
      ],
      "source": [
        "m =10\n",
        "n =5\n",
        "\n",
        "for i in range(m):\n",
        "  for j in range(n):\n",
        "    print(j + 1, end=\" \")\n",
        "  print()"
      ]
    },
    {
      "cell_type": "code",
      "execution_count": null,
      "metadata": {
        "colab": {
          "base_uri": "https://localhost:8080/"
        },
        "id": "iHbi-oteare9",
        "outputId": "4aff00ba-cb78-4c8a-fade-29daa8483587"
      },
      "outputs": [
        {
          "name": "stdout",
          "output_type": "stream",
          "text": [
            "enter the number10\n",
            "0\n",
            "1\n",
            "2\n",
            "3\n",
            "4\n",
            "5\n",
            "6\n",
            "7\n",
            "8\n",
            "9\n",
            "10\n"
          ]
        }
      ],
      "source": [
        "n=int(input(\"enter the number\"))\n",
        "for i in range(n+1):\n",
        "  print(i)"
      ]
    },
    {
      "cell_type": "code",
      "execution_count": null,
      "metadata": {
        "colab": {
          "base_uri": "https://localhost:8080/"
        },
        "id": "_pnj_ghn37QW",
        "outputId": "ac32bbd2-fefc-4531-89d9-1e207a55922b"
      },
      "outputs": [
        {
          "name": "stdout",
          "output_type": "stream",
          "text": [
            "enter the number=4\n",
            "users input=3\n",
            "0.75\n",
            "users input=4\n",
            "1.75\n",
            "users input=6\n",
            "3.25\n",
            "users input=7\n",
            "5.0\n"
          ]
        }
      ],
      "source": [
        "n=int(input(\"enter the number=\"))\n",
        "sum=0\n",
        "for i in range (0,n):\n",
        "  m=int(input(\"users input=\"))\n",
        "  sum=sum+m\n",
        "  avg=sum/n\n",
        "  print(avg)\n"
      ]
    },
    {
      "cell_type": "code",
      "execution_count": null,
      "metadata": {
        "colab": {
          "base_uri": "https://localhost:8080/"
        },
        "id": "2MeXkpzMhi1u",
        "outputId": "2b1b142f-ec9f-43cf-b26b-f8d567a56524"
      },
      "outputs": [
        {
          "name": "stdout",
          "output_type": "stream",
          "text": [
            "4\n",
            " * \n",
            " *  * \n",
            " *  *  * \n",
            " *  *  *  * \n",
            " * \n",
            " *  * \n",
            " *  *  * \n",
            " *  *  *  * \n"
          ]
        }
      ],
      "source": [
        "n=int(input())\n",
        "for i in range(1,n+1):\n",
        "   print(\" * \"*i)\n",
        "for i in range(1,n+1):\n",
        "  print(\" * \"*i)\n"
      ]
    },
    {
      "cell_type": "code",
      "execution_count": null,
      "metadata": {
        "colab": {
          "base_uri": "https://localhost:8080/"
        },
        "id": "1a72518a",
        "outputId": "c2227ab7-4769-47c3-ab5a-fc405884af6f"
      },
      "outputs": [
        {
          "name": "stdout",
          "output_type": "stream",
          "text": [
            "The product of numbers from 5 to 7 is: 210\n"
          ]
        }
      ],
      "source": [
        "m = 5\n",
        "n = 7\n",
        "product = 1\n",
        "for i in range(m, n + 1):\n",
        "  product *= i\n",
        "\n",
        "print(\"The product of numbers from\", m, \"to\", n, \"is:\", product)"
      ]
    },
    {
      "cell_type": "code",
      "execution_count": null,
      "metadata": {
        "colab": {
          "base_uri": "https://localhost:8080/"
        },
        "id": "1G2ShExf_8aU",
        "outputId": "6034c4ee-1f13-4f0a-e49f-93433b527538"
      },
      "outputs": [
        {
          "name": "stdout",
          "output_type": "stream",
          "text": [
            "5\n",
            "30\n",
            "210\n",
            "1680\n",
            "15120\n"
          ]
        }
      ],
      "source": [
        "a=5\n",
        "b=10\n",
        "p=1\n",
        "for num in range(a,b):\n",
        "  p=p*num\n",
        "  print(p)"
      ]
    },
    {
      "cell_type": "code",
      "execution_count": null,
      "metadata": {
        "colab": {
          "base_uri": "https://localhost:8080/"
        },
        "id": "Vhg6O3MXF5xj",
        "outputId": "702d6af6-f1e7-4b73-d02e-841f3d0ef0c2"
      },
      "outputs": [
        {
          "name": "stdout",
          "output_type": "stream",
          "text": [
            "15467\n",
            "1\n",
            "6\n",
            "10\n",
            "16\n",
            "23\n"
          ]
        }
      ],
      "source": [
        "number = int(input()) #15467\n",
        "c_s = str(number)\n",
        "sum = 0\n",
        "for i in range(len(c_s)):\n",
        "  sum = sum + int(c_s[i])\n",
        "  print(sum)\n",
        "#what is the output"
      ]
    },
    {
      "cell_type": "code",
      "execution_count": null,
      "metadata": {
        "colab": {
          "base_uri": "https://localhost:8080/"
        },
        "id": "bfLZleQOMMHA",
        "outputId": "7866461d-255b-42e8-b27f-a52b27c8d5db"
      },
      "outputs": [
        {
          "name": "stdout",
          "output_type": "stream",
          "text": [
            "151893\n",
            "27\n"
          ]
        }
      ],
      "source": [
        "number= int(input()) #151893\n",
        "c_S = str(number)\n",
        "\n",
        "sum = 0\n",
        "for digit in c_S:\n",
        "  sum += int(digit)\n",
        "print(sum)\n",
        "#what is the output"
      ]
    },
    {
      "cell_type": "code",
      "execution_count": null,
      "metadata": {
        "colab": {
          "base_uri": "https://localhost:8080/"
        },
        "id": "425efa85",
        "outputId": "2d5bb9a4-3322-4984-c0a7-56df6980b796"
      },
      "outputs": [
        {
          "name": "stdout",
          "output_type": "stream",
          "text": [
            "Enter a number: 7\n",
            "The factorial of 7 is 5040\n"
          ]
        }
      ],
      "source": [
        "n = int(input(\"Enter a number: \"))\n",
        "factorial = 1\n",
        "\n",
        "if n < 0:\n",
        "   print(\" negative numbers\")\n",
        "elif n == 0:\n",
        "   print(\"The factorial of 0 is 1\")\n",
        "else:\n",
        "   for i in range(1,n + 1):\n",
        "       factorial = factorial*i\n",
        "   print(\"The factorial of\",n,\"is\",factorial)"
      ]
    },
    {
      "cell_type": "code",
      "execution_count": null,
      "metadata": {
        "colab": {
          "base_uri": "https://localhost:8080/"
        },
        "id": "XjoQnx6dTts-",
        "outputId": "cfc2835f-d282-4d8c-b843-5daf7d84f79d"
      },
      "outputs": [
        {
          "name": "stdout",
          "output_type": "stream",
          "text": [
            "o\n",
            "w\n",
            "e\n",
            "s\n"
          ]
        }
      ],
      "source": [
        "a=\"owes\"\n",
        "for char in a:\n",
        "  print(char)"
      ]
    },
    {
      "cell_type": "code",
      "execution_count": null,
      "metadata": {
        "colab": {
          "base_uri": "https://localhost:8080/"
        },
        "id": "SKCk2A0FWCTV",
        "outputId": "33882ccc-a678-4722-bd5c-eb87f0b967bb"
      },
      "outputs": [
        {
          "name": "stdout",
          "output_type": "stream",
          "text": [
            "o \n",
            "wo \n",
            "ewo \n",
            "sewo \n"
          ]
        }
      ],
      "source": [
        "a=\"owes\"\n",
        "b=\" \"\n",
        "for char in a :\n",
        "  b=char+b\n",
        "  print(b)"
      ]
    },
    {
      "cell_type": "code",
      "execution_count": null,
      "metadata": {
        "colab": {
          "base_uri": "https://localhost:8080/"
        },
        "id": "y0LffOQ9XzzF",
        "outputId": "5a5bee80-b38a-4a78-a65f-016961a766d9"
      },
      "outputs": [
        {
          "name": "stdout",
          "output_type": "stream",
          "text": [
            "692\n",
            "17\n"
          ]
        }
      ],
      "source": [
        "number= int(input()) #692\n",
        "\n",
        "c_S = str(number)\n",
        "\n",
        "sum = 0\n",
        "for digit in c_S:\n",
        "  sum += int(digit)\n",
        "print(sum)\n",
        "#what is the output"
      ]
    },
    {
      "cell_type": "code",
      "execution_count": null,
      "metadata": {
        "colab": {
          "base_uri": "https://localhost:8080/"
        },
        "id": "U2VhF05TaQ1c",
        "outputId": "0b23db4b-6cf5-4a33-8ed3-af956cccf7da"
      },
      "outputs": [
        {
          "name": "stdout",
          "output_type": "stream",
          "text": [
            "meri raa*d bulla\n",
            "allub d*aar irem\n"
          ]
        }
      ],
      "source": [
        "a=input()\n",
        "print(a[::-1])"
      ]
    },
    {
      "cell_type": "code",
      "execution_count": null,
      "metadata": {
        "colab": {
          "base_uri": "https://localhost:8080/"
        },
        "id": "0KYadHG8a8ls",
        "outputId": "42e8ed2e-f371-4f16-fe40-41b8a68ab163"
      },
      "outputs": [
        {
          "output_type": "stream",
          "name": "stdout",
          "text": [
            "1534\n",
            "4\n"
          ]
        }
      ],
      "source": [
        "number=input() #1534\n",
        "\n",
        "maximum_number=0\n",
        "for num in number : #1\n",
        "  convert_int=int(num)\n",
        "if(convert_int > maximum_number):\n",
        "  maximum_number=int(num)\n",
        "  print(maximum_number)\n"
      ]
    },
    {
      "cell_type": "code",
      "execution_count": null,
      "metadata": {
        "colab": {
          "base_uri": "https://localhost:8080/"
        },
        "id": "BNWUcvTpTEg3",
        "outputId": "61b52885-88b7-4eb5-c512-7a95f1c095fc"
      },
      "outputs": [
        {
          "output_type": "stream",
          "name": "stdout",
          "text": [
            "ar\n"
          ]
        }
      ],
      "source": [
        "a=\"waterfall\"\n",
        "part=a[1:6:3]\n",
        "print(part)"
      ]
    },
    {
      "cell_type": "code",
      "source": [
        "mobile=\" 9481261091\"\n",
        "mobile=mobile.strip()\n",
        "print(mobile)"
      ],
      "metadata": {
        "colab": {
          "base_uri": "https://localhost:8080/"
        },
        "id": "5QYopUylVFrG",
        "outputId": "1a7b5a5c-2f02-40e8-a044-db57e7489f2c"
      },
      "execution_count": null,
      "outputs": [
        {
          "output_type": "stream",
          "name": "stdout",
          "text": [
            "9481261091\n"
          ]
        }
      ]
    },
    {
      "cell_type": "code",
      "source": [
        "name=\"@owes\"\n",
        "name=name.strip(\"@\")\n",
        "print(name)"
      ],
      "metadata": {
        "colab": {
          "base_uri": "https://localhost:8080/"
        },
        "id": "6whNSgj9Wx5u",
        "outputId": "b0b143cf-a10d-4561-ea2c-cf61baa9fb14"
      },
      "execution_count": null,
      "outputs": [
        {
          "output_type": "stream",
          "name": "stdout",
          "text": [
            "owes\n"
          ]
        }
      ]
    },
    {
      "cell_type": "code",
      "source": [
        "name=\", .. ,,ali ,, .. .\"\n",
        "name= name.strip(\" ,.\")\n",
        "print(name)"
      ],
      "metadata": {
        "colab": {
          "base_uri": "https://localhost:8080/"
        },
        "id": "LlZpmcCwXr7F",
        "outputId": "ad468133-81cf-4693-d9f6-a6d6325c09d3"
      },
      "execution_count": null,
      "outputs": [
        {
          "output_type": "stream",
          "name": "stdout",
          "text": [
            "ali\n"
          ]
        }
      ]
    },
    {
      "cell_type": "code",
      "source": [
        "sentence= \"teh cat and teh dog\"\n",
        "sentence= sentence.replace(\"teh\",\"the\")\n",
        "print(sentence)"
      ],
      "metadata": {
        "colab": {
          "base_uri": "https://localhost:8080/"
        },
        "id": "LoMAyKZXYn68",
        "outputId": "e5db1d4f-8a6b-4637-b2b5-5d7453c9778c"
      },
      "execution_count": null,
      "outputs": [
        {
          "output_type": "stream",
          "name": "stdout",
          "text": [
            "the cat and the dog\n"
          ]
        }
      ]
    },
    {
      "cell_type": "code",
      "source": [
        "gmai_id=\"rahul123@gmail.com\"\n",
        "is_gmail=gmai_id.endswith(\"@gmail.c\")\n",
        "print(is_gmail)"
      ],
      "metadata": {
        "colab": {
          "base_uri": "https://localhost:8080/"
        },
        "id": "5SSI_Tb9ZxBd",
        "outputId": "7b70af4b-f7da-4ffb-eb20-a772f4cbdadc"
      },
      "execution_count": null,
      "outputs": [
        {
          "output_type": "stream",
          "name": "stdout",
          "text": [
            "False\n"
          ]
        }
      ]
    },
    {
      "cell_type": "code",
      "source": [
        "name=\"ravi\"\n",
        "print(name.upper())"
      ],
      "metadata": {
        "colab": {
          "base_uri": "https://localhost:8080/"
        },
        "id": "qECFzABBbzkz",
        "outputId": "3b7b97d4-4af3-4b1b-d959-bce1ba5b0116"
      },
      "execution_count": null,
      "outputs": [
        {
          "output_type": "stream",
          "name": "stdout",
          "text": [
            "RAVI\n"
          ]
        }
      ]
    },
    {
      "cell_type": "code",
      "source": [
        "name=\"RAVI\"\n",
        "print(name.lower())"
      ],
      "metadata": {
        "colab": {
          "base_uri": "https://localhost:8080/"
        },
        "id": "YelDOTu2dUkL",
        "outputId": "bd4b4e90-2006-48ce-b525-75ffb828c336"
      },
      "execution_count": null,
      "outputs": [
        {
          "output_type": "stream",
          "name": "stdout",
          "text": [
            "ravi\n"
          ]
        }
      ]
    },
    {
      "cell_type": "code",
      "source": [
        "a=\"kle bca\"\n",
        "find_index=a.index(\"bca\")\n",
        "print(find_index)"
      ],
      "metadata": {
        "colab": {
          "base_uri": "https://localhost:8080/"
        },
        "id": "mNM1-82rdhgi",
        "outputId": "6b724ac1-222a-481f-8d8c-eef2ff5e70d0"
      },
      "execution_count": null,
      "outputs": [
        {
          "output_type": "stream",
          "name": "stdout",
          "text": [
            "4\n"
          ]
        }
      ]
    },
    {
      "cell_type": "code",
      "source": [
        "count_e=a.count(\"e\")\n",
        "print(count_e)"
      ],
      "metadata": {
        "colab": {
          "base_uri": "https://localhost:8080/"
        },
        "id": "Ah7tr4kafZUK",
        "outputId": "a4e9642b-a8f6-4ed7-8c65-42d5a0013aa4"
      },
      "execution_count": null,
      "outputs": [
        {
          "output_type": "stream",
          "name": "stdout",
          "text": [
            "1\n"
          ]
        }
      ]
    },
    {
      "cell_type": "code",
      "source": [
        "text= \"coo coo\"\n",
        "word_index= text.find(\"ha\")\n",
        "print(word_index)"
      ],
      "metadata": {
        "colab": {
          "base_uri": "https://localhost:8080/"
        },
        "id": "NH4OnxPUgSba",
        "outputId": "d2334082-3a82-4614-d719-f4d9f49e7fcb"
      },
      "execution_count": null,
      "outputs": [
        {
          "output_type": "stream",
          "name": "stdout",
          "text": [
            "-1\n"
          ]
        }
      ]
    },
    {
      "cell_type": "code",
      "source": [
        "is_lower = \"hello ravi!\".islower()\n",
        "print(is_lower)"
      ],
      "metadata": {
        "colab": {
          "base_uri": "https://localhost:8080/"
        },
        "id": "KwVy1qBChDZZ",
        "outputId": "b84063c0-9893-4cc8-b98e-6bac85b9116b"
      },
      "execution_count": null,
      "outputs": [
        {
          "output_type": "stream",
          "name": "stdout",
          "text": [
            "True\n"
          ]
        }
      ]
    },
    {
      "cell_type": "code",
      "source": [
        "a=\"apple mango\"\n",
        "b=a.capitalize()\n",
        "print(b)"
      ],
      "metadata": {
        "colab": {
          "base_uri": "https://localhost:8080/"
        },
        "id": "C6xi5hgkkEKh",
        "outputId": "9988ffc0-5656-45be-8dd5-0978b1d4d10d"
      },
      "execution_count": null,
      "outputs": [
        {
          "output_type": "stream",
          "name": "stdout",
          "text": [
            "Apple mango\n"
          ]
        }
      ]
    },
    {
      "cell_type": "code",
      "source": [
        "sentence=\"07-11-2020\"\n",
        "output=sentence.replace(\"-\",\"/\")\n",
        "print(output)\n"
      ],
      "metadata": {
        "colab": {
          "base_uri": "https://localhost:8080/"
        },
        "id": "R1tZ4PxLlFlR",
        "outputId": "09782d81-931f-4527-c426-22ae3b17e971"
      },
      "execution_count": null,
      "outputs": [
        {
          "output_type": "stream",
          "name": "stdout",
          "text": [
            "07/11/2020\n"
          ]
        }
      ]
    },
    {
      "cell_type": "code",
      "source": [
        "name=input()\n",
        "convert_lower =name.lower()\n",
        "revers_string=\"\"\n",
        "for char in convert_lower:\n",
        "  revers_string=char+revers_string\n",
        "if convert_lower==revers_string:\n",
        "    print(\"true\")\n",
        "else:\n",
        "    print(\"false\")\n",
        "\n",
        "\n"
      ],
      "metadata": {
        "colab": {
          "base_uri": "https://localhost:8080/"
        },
        "id": "eNxB0V2dmBwn",
        "outputId": "c837e7e0-2e63-4ffb-b549-9c0971ea2ea5"
      },
      "execution_count": null,
      "outputs": [
        {
          "output_type": "stream",
          "name": "stdout",
          "text": [
            "12321\n",
            "true\n"
          ]
        }
      ]
    },
    {
      "cell_type": "markdown",
      "source": [
        "Day-6\n"
      ],
      "metadata": {
        "id": "455y4CQhdvAS"
      }
    },
    {
      "cell_type": "code",
      "source": [
        "for i in range(2):\n",
        "  print(\"Outer: \" + str(i))\n",
        "  for j in range(2):\n",
        "    print(\" Inner:\" + str(j))"
      ],
      "metadata": {
        "colab": {
          "base_uri": "https://localhost:8080/"
        },
        "id": "GdsWjhS7dz5E",
        "outputId": "6cd7cf8b-e7d6-4639-dae1-e04390eaab5e"
      },
      "execution_count": null,
      "outputs": [
        {
          "output_type": "stream",
          "name": "stdout",
          "text": [
            "Outer: 0\n",
            " Inner:0\n",
            " Inner:1\n",
            "Outer: 1\n",
            " Inner:0\n",
            " Inner:1\n"
          ]
        }
      ]
    },
    {
      "cell_type": "code",
      "source": [
        "for num in range(2):\n",
        "  print(\"loop itration number:\"+str(num))\n",
        "  a=0\n",
        "  while(a<3):\n",
        "    print(\"inner number :\"+str(a))\n",
        "    a=a+1"
      ],
      "metadata": {
        "id": "I3vlV14Pgkbi",
        "colab": {
          "base_uri": "https://localhost:8080/"
        },
        "outputId": "2dca0d56-1bf5-4d25-d776-41b9bb301b2e"
      },
      "execution_count": null,
      "outputs": [
        {
          "output_type": "stream",
          "name": "stdout",
          "text": [
            "loop itration number:0\n",
            "inner number :0\n",
            "inner number :1\n",
            "inner number :2\n",
            "loop itration number:1\n",
            "inner number :0\n",
            "inner number :1\n",
            "inner number :2\n"
          ]
        }
      ]
    },
    {
      "cell_type": "code",
      "source": [
        "a=10\n",
        "print(\"loop itration number:\"+str(num))\n",
        "b=20\n",
        "while(a>2):\n",
        "  print(\"inner number :\"+str(a))\n",
        "  a=a-1"
      ],
      "metadata": {
        "colab": {
          "base_uri": "https://localhost:8080/"
        },
        "id": "Xmq7kjBPk1o_",
        "outputId": "6fd58587-27d5-4ce9-a890-e38ff1e2cb0b"
      },
      "execution_count": null,
      "outputs": [
        {
          "output_type": "stream",
          "name": "stdout",
          "text": [
            "loop itration number:1\n",
            "inner number :10\n",
            "inner number :9\n",
            "inner number :8\n",
            "inner number :7\n",
            "inner number :6\n",
            "inner number :5\n",
            "inner number :4\n",
            "inner number :3\n"
          ]
        }
      ]
    },
    {
      "cell_type": "code",
      "source": [
        "for i in range(5):\n",
        "  if i == 3:\n",
        "   break\n",
        "  print(i)\n",
        "  print(\"END\")"
      ],
      "metadata": {
        "colab": {
          "base_uri": "https://localhost:8080/"
        },
        "id": "cl40sVVlmKsm",
        "outputId": "ec441669-688a-4bc6-943f-b99534ae2da5"
      },
      "execution_count": null,
      "outputs": [
        {
          "output_type": "stream",
          "name": "stdout",
          "text": [
            "0\n",
            "END\n",
            "1\n",
            "END\n",
            "2\n",
            "END\n"
          ]
        }
      ]
    },
    {
      "cell_type": "code",
      "source": [
        "for i in range(4):\n",
        "  print(\"itration number:\"+str(i))\n",
        "  if i == 3:\n",
        "   break\n",
        "  print(i)\n",
        "  print(\" program ended\")"
      ],
      "metadata": {
        "colab": {
          "base_uri": "https://localhost:8080/"
        },
        "id": "lH7-dHKRoIbl",
        "outputId": "912236e9-af04-47ac-f84a-6868ccf1d34d"
      },
      "execution_count": null,
      "outputs": [
        {
          "output_type": "stream",
          "name": "stdout",
          "text": [
            "itration number:0\n",
            "0\n",
            " program ended\n",
            "itration number:1\n",
            "1\n",
            " program ended\n",
            "itration number:2\n",
            "2\n",
            " program ended\n",
            "itration number:3\n"
          ]
        }
      ]
    },
    {
      "cell_type": "code",
      "source": [
        "for i in range(4):\n",
        "  print(\"itration number:\"+str(i))\n",
        "  if i ==2:\n",
        "   continue\n",
        "  print(i)\n",
        "  print(\" program ended\")"
      ],
      "metadata": {
        "id": "Ti6CBGbSqSA0",
        "colab": {
          "base_uri": "https://localhost:8080/"
        },
        "outputId": "7309db7e-3be0-462b-c058-3876708eaf98"
      },
      "execution_count": null,
      "outputs": [
        {
          "output_type": "stream",
          "name": "stdout",
          "text": [
            "itration number:0\n",
            "0\n",
            " program ended\n",
            "itration number:1\n",
            "1\n",
            " program ended\n",
            "itration number:2\n",
            "itration number:3\n",
            "3\n",
            " program ended\n"
          ]
        }
      ]
    },
    {
      "cell_type": "code",
      "source": [
        "for i in range(4):\n",
        "  if i== 2:\n",
        "   pass\n",
        "  else:\n",
        "    print(i,end=\" \")"
      ],
      "metadata": {
        "colab": {
          "base_uri": "https://localhost:8080/"
        },
        "id": "Vit4XlbXr2gI",
        "outputId": "9baca708-7104-486b-87af-15decff1914f"
      },
      "execution_count": null,
      "outputs": [
        {
          "output_type": "stream",
          "name": "stdout",
          "text": [
            "0 1 3 "
          ]
        }
      ]
    },
    {
      "cell_type": "code",
      "source": [
        "unicode_value=ord(\"A\")\n",
        "print(unicode_value)"
      ],
      "metadata": {
        "id": "pKV5qSbfteMk",
        "outputId": "687d952c-c7f3-4204-fa65-c486f9b1b7e8",
        "colab": {
          "base_uri": "https://localhost:8080/"
        }
      },
      "execution_count": null,
      "outputs": [
        {
          "output_type": "stream",
          "name": "stdout",
          "text": [
            "65\n"
          ]
        }
      ]
    },
    {
      "cell_type": "code",
      "source": [
        "name=input()\n",
        "for char in name:\n",
        "  print(ord(char))"
      ],
      "metadata": {
        "colab": {
          "base_uri": "https://localhost:8080/"
        },
        "id": "vyEDyJT0xC6X",
        "outputId": "3056b39a-6650-4afe-8a7b-b2572fab17e1"
      },
      "execution_count": null,
      "outputs": [
        {
          "output_type": "stream",
          "name": "stdout",
          "text": [
            "Darshan\n",
            "68\n",
            "97\n",
            "114\n",
            "115\n",
            "104\n",
            "97\n",
            "110\n"
          ]
        }
      ]
    },
    {
      "cell_type": "code",
      "source": [
        "name=input()\n",
        "for char in name:\n",
        "  print(char)"
      ],
      "metadata": {
        "id": "kylqrvk3yeOf",
        "colab": {
          "base_uri": "https://localhost:8080/"
        },
        "outputId": "9c67cdb9-2689-4459-d724-d2e9480904ec"
      },
      "execution_count": null,
      "outputs": [
        {
          "output_type": "stream",
          "name": "stdout",
          "text": [
            "Darshan\n",
            "D\n",
            "a\n",
            "r\n",
            "s\n",
            "h\n",
            "a\n",
            "n\n"
          ]
        }
      ]
    },
    {
      "cell_type": "code",
      "source": [
        "a=\"vasu\"\n",
        "sum=0\n",
        "for char in a:\n",
        "  value=ord(char)\n",
        "  sum=sum+value\n",
        "  print(sum)"
      ],
      "metadata": {
        "id": "xALtaE471ROG",
        "colab": {
          "base_uri": "https://localhost:8080/"
        },
        "outputId": "c5f8a794-9800-481f-8c43-377dabf7b1ad"
      },
      "execution_count": null,
      "outputs": [
        {
          "output_type": "stream",
          "name": "stdout",
          "text": [
            "118\n",
            "215\n",
            "330\n",
            "447\n"
          ]
        }
      ]
    },
    {
      "cell_type": "code",
      "source": [],
      "metadata": {
        "id": "leqPI_0x2ju0"
      },
      "execution_count": null,
      "outputs": []
    },
    {
      "cell_type": "code",
      "metadata": {
        "colab": {
          "base_uri": "https://localhost:8080/"
        },
        "id": "f9d4d5f6",
        "outputId": "d5e48df5-3dc1-4510-daf6-4c202ad6d1a9"
      },
      "source": [
        "def count_chars_with_unicode(s, n):\n",
        "  count = 0\n",
        "  for char in s:\n",
        "    if ord(char) == n:\n",
        "      count += 1\n",
        "  return count\n",
        "\n",
        "input_string = input(\"Enter a string: \")\n",
        "target_unicode = int(input(\"Enter a number (Unicode value): \"))\n",
        "\n",
        "result = count_chars_with_unicode(input_string, target_unicode)\n",
        "print(f\"The number of characters with Unicode value {target_unicode} is: {result}\")"
      ],
      "execution_count": null,
      "outputs": [
        {
          "output_type": "stream",
          "name": "stdout",
          "text": [
            "Enter a string: 10\n",
            "Enter a number (Unicode value): 20\n",
            "The number of characters with Unicode value 20 is: 0\n"
          ]
        }
      ]
    },
    {
      "cell_type": "code",
      "source": [
        "a=\"Google\"\n",
        "b=111\n",
        "sum=0\n",
        "for char in a:\n",
        "  value=ord(char)\n",
        "  sum=sum+value\n",
        "  print(sum)\n"
      ],
      "metadata": {
        "id": "OUwAM5Yv3l7D",
        "colab": {
          "base_uri": "https://localhost:8080/"
        },
        "outputId": "4c248f71-6466-4ff7-b4e7-05c858f18585"
      },
      "execution_count": null,
      "outputs": [
        {
          "output_type": "stream",
          "name": "stdout",
          "text": [
            "71\n",
            "182\n",
            "293\n",
            "396\n",
            "504\n",
            "605\n"
          ]
        }
      ]
    },
    {
      "cell_type": "code",
      "source": [
        "name=input()\n",
        "number = int(input())\n",
        "sum=0\n",
        "for char in name:\n",
        "  value=ord(char)\n",
        "  if value==number:\n",
        "    sum=sum+1\n",
        "    print(sum)"
      ],
      "metadata": {
        "colab": {
          "base_uri": "https://localhost:8080/"
        },
        "id": "XKOS26Ge6etB",
        "outputId": "6af818d7-302e-482b-ed41-8714c970ecb5"
      },
      "execution_count": null,
      "outputs": [
        {
          "output_type": "stream",
          "name": "stdout",
          "text": [
            "google \n",
            "111\n",
            "1\n",
            "2\n"
          ]
        }
      ]
    },
    {
      "cell_type": "code",
      "source": [
        "a=2\n",
        "list_a=[5,\"Six\", a,8.2]\n",
        "print(type(list_a))\n",
        "print(list_a)"
      ],
      "metadata": {
        "id": "v3GgUO2B7J7x",
        "colab": {
          "base_uri": "https://localhost:8080/"
        },
        "outputId": "9549403a-7504-44e2-8d8a-f583f889e2e1"
      },
      "execution_count": null,
      "outputs": [
        {
          "output_type": "stream",
          "name": "stdout",
          "text": [
            "<class 'list'>\n",
            "[5, 'Six', 2, 8.2]\n"
          ]
        }
      ]
    },
    {
      "cell_type": "code",
      "source": [
        "a=2\n",
        "list_a=[5,\"Six\", a,8.2]\n",
        "list_b=[1,list_a]\n",
        "print(list_b)"
      ],
      "metadata": {
        "id": "4mZa_L0E9jqF",
        "colab": {
          "base_uri": "https://localhost:8080/"
        },
        "outputId": "d0f7ad87-9554-4fdc-cd32-d630e2c521ee"
      },
      "execution_count": null,
      "outputs": [
        {
          "output_type": "stream",
          "name": "stdout",
          "text": [
            "[1, [5, 'Six', 2, 8.2]]\n"
          ]
        }
      ]
    },
    {
      "cell_type": "code",
      "source": [
        "a=2\n",
        "list_a=[5,\"Six\",a,0.2]\n",
        "print(len(list_a))"
      ],
      "metadata": {
        "colab": {
          "base_uri": "https://localhost:8080/"
        },
        "id": "f4I4lHna_VuM",
        "outputId": "464a7183-9639-4b22-b3e0-21cd0e32e5ed"
      },
      "execution_count": null,
      "outputs": [
        {
          "output_type": "stream",
          "name": "stdout",
          "text": [
            "4\n"
          ]
        }
      ]
    },
    {
      "cell_type": "code",
      "source": [
        "a=2\n",
        "list_a=[5,\"Six\",a,8.2]\n",
        "print(list_a[1])"
      ],
      "metadata": {
        "id": "aatqEz5P_uXM",
        "colab": {
          "base_uri": "https://localhost:8080/"
        },
        "outputId": "fc8b2320-24e5-410d-b205-a7abcd243c6d"
      },
      "execution_count": null,
      "outputs": [
        {
          "output_type": "stream",
          "name": "stdout",
          "text": [
            "Six\n"
          ]
        }
      ]
    },
    {
      "cell_type": "code",
      "source": [
        "a=2\n",
        "list_a=[5,\"Six\",a,8.2]\n",
        "for item in list_a:\n",
        "  print(item)"
      ],
      "metadata": {
        "colab": {
          "base_uri": "https://localhost:8080/"
        },
        "id": "LsYcQ_NfAlFV",
        "outputId": "463aa7fb-f82e-4aca-9d2a-b5cd57243f2d"
      },
      "execution_count": null,
      "outputs": [
        {
          "output_type": "stream",
          "name": "stdout",
          "text": [
            "5\n",
            "Six\n",
            "2\n",
            "8.2\n"
          ]
        }
      ]
    },
    {
      "cell_type": "code",
      "source": [
        "list_a=[1,2,3]\n",
        "list_b=[\"a\",\"b\",\"c\"]\n",
        "list_c= list_a + list_b\n",
        "print(list_c)"
      ],
      "metadata": {
        "id": "2zzyb9n_A11P",
        "colab": {
          "base_uri": "https://localhost:8080/"
        },
        "outputId": "f90d1147-803b-4ebb-c4e1-ac3d1b725368"
      },
      "execution_count": null,
      "outputs": [
        {
          "output_type": "stream",
          "name": "stdout",
          "text": [
            "[1, 2, 3, 'a', 'b', 'c']\n"
          ]
        }
      ]
    },
    {
      "cell_type": "code",
      "source": [
        "list_a=[]\n",
        "print(list_a)\n",
        "for i in range(1,4):\n",
        "  list_a+=[i]\n",
        "  print(list_a)\n"
      ],
      "metadata": {
        "id": "ZpHyRPtuB3_2",
        "colab": {
          "base_uri": "https://localhost:8080/"
        },
        "outputId": "e860a51e-5d31-4769-e3c0-7ceb67db3ac9"
      },
      "execution_count": null,
      "outputs": [
        {
          "output_type": "stream",
          "name": "stdout",
          "text": [
            "[]\n",
            "[1]\n",
            "[1, 2]\n",
            "[1, 2, 3]\n"
          ]
        }
      ]
    },
    {
      "cell_type": "code",
      "source": [
        "list_a=[1,2]\n",
        "list_b=list_a*3\n",
        "print(list_b)"
      ],
      "metadata": {
        "colab": {
          "base_uri": "https://localhost:8080/"
        },
        "id": "DEni24G0CYs8",
        "outputId": "cc49279a-cce9-4579-b43f-a19aff03d6f6"
      },
      "execution_count": null,
      "outputs": [
        {
          "output_type": "stream",
          "name": "stdout",
          "text": [
            "[1, 2, 1, 2, 1, 2]\n"
          ]
        }
      ]
    },
    {
      "cell_type": "code",
      "source": [
        "list_a=[5,6,2,8.2]\n",
        "list_b=list_a*3\n",
        "print(list_b)"
      ],
      "metadata": {
        "colab": {
          "base_uri": "https://localhost:8080/"
        },
        "id": "9WvqsjRrDWJE",
        "outputId": "6518e105-064a-4e4a-af51-4b0f0a94f136"
      },
      "execution_count": null,
      "outputs": [
        {
          "output_type": "stream",
          "name": "stdout",
          "text": [
            "[5, 6, 2, 8.2, 5, 6, 2, 8.2, 5, 6, 2, 8.2]\n"
          ]
        }
      ]
    },
    {
      "cell_type": "code",
      "source": [
        "list_a=[5,\"six\",2,8.2]\n",
        "list_b=list_a[:2]\n",
        "print(list_b)"
      ],
      "metadata": {
        "colab": {
          "base_uri": "https://localhost:8080/"
        },
        "id": "KUfQoRPLEOVk",
        "outputId": "13d3d7ab-f105-4389-e91e-3e2f4410edf1"
      },
      "execution_count": null,
      "outputs": [
        {
          "output_type": "stream",
          "name": "stdout",
          "text": [
            "[5, 'six']\n"
          ]
        }
      ]
    },
    {
      "cell_type": "code",
      "source": [
        "list_a=[\"R\",\"B\",\"G\",\"O\",\"N\"]\n",
        "list_b=list_a[0:5:3]\n",
        "print(list_b)"
      ],
      "metadata": {
        "id": "O0NTH31-En5L",
        "colab": {
          "base_uri": "https://localhost:8080/"
        },
        "outputId": "c9ea2377-468c-4f77-a8b0-e7d2c521451a"
      },
      "execution_count": null,
      "outputs": [
        {
          "output_type": "stream",
          "name": "stdout",
          "text": [
            "['R', 'O']\n"
          ]
        }
      ]
    },
    {
      "cell_type": "code",
      "source": [
        "color=\"red\"\n",
        "list_a=list(color)\n",
        "print(list_a)"
      ],
      "metadata": {
        "id": "9zopfYFZFRvr",
        "colab": {
          "base_uri": "https://localhost:8080/"
        },
        "outputId": "a3b5682a-d0db-439b-fb2f-b933efd7c381"
      },
      "execution_count": null,
      "outputs": [
        {
          "output_type": "stream",
          "name": "stdout",
          "text": [
            "['r', 'e', 'd']\n"
          ]
        }
      ]
    },
    {
      "cell_type": "code",
      "source": [
        "list_a=list(range(4))\n",
        "print(list_a)"
      ],
      "metadata": {
        "id": "gl2RMqj6GWQK",
        "colab": {
          "base_uri": "https://localhost:8080/"
        },
        "outputId": "415a339e-9c94-4d12-90cf-94a521954e38"
      },
      "execution_count": null,
      "outputs": [
        {
          "output_type": "stream",
          "name": "stdout",
          "text": [
            "[0, 1, 2, 3]\n"
          ]
        }
      ]
    },
    {
      "cell_type": "code",
      "source": [
        "list_a=[1,2,3,5]\n",
        "print(list_a)\n",
        "list_a[3]=4\n",
        "print(list_a)"
      ],
      "metadata": {
        "id": "DxZQPaf8G0Mz",
        "colab": {
          "base_uri": "https://localhost:8080/"
        },
        "outputId": "a47afbfe-026d-43ba-ca7c-23330c693465"
      },
      "execution_count": null,
      "outputs": [
        {
          "output_type": "stream",
          "name": "stdout",
          "text": [
            "[1, 2, 3, 5]\n",
            "[1, 2, 3, 4]\n"
          ]
        }
      ]
    },
    {
      "cell_type": "code",
      "source": [
        "message = \"sea you soon\"\n",
        "message_[2] = \"e\"\n",
        "print(message)"
      ],
      "metadata": {
        "colab": {
          "base_uri": "https://localhost:8080/",
          "height": 176
        },
        "id": "CRyfQIFiH7Gh",
        "outputId": "eb95c5f7-1391-4516-b22f-554606653063"
      },
      "execution_count": null,
      "outputs": [
        {
          "output_type": "error",
          "ename": "NameError",
          "evalue": "name 'message_' is not defined",
          "traceback": [
            "\u001b[0;31m---------------------------------------------------------------------------\u001b[0m",
            "\u001b[0;31mNameError\u001b[0m                                 Traceback (most recent call last)",
            "\u001b[0;32m/tmp/ipython-input-3650703392.py\u001b[0m in \u001b[0;36m<cell line: 0>\u001b[0;34m()\u001b[0m\n\u001b[1;32m      1\u001b[0m \u001b[0mmessage\u001b[0m \u001b[0;34m=\u001b[0m \u001b[0;34m\"sea you soon\"\u001b[0m\u001b[0;34m\u001b[0m\u001b[0;34m\u001b[0m\u001b[0m\n\u001b[0;32m----> 2\u001b[0;31m \u001b[0mmessage_\u001b[0m\u001b[0;34m[\u001b[0m\u001b[0;36m2\u001b[0m\u001b[0;34m]\u001b[0m \u001b[0;34m=\u001b[0m \u001b[0;34m\"e\"\u001b[0m\u001b[0;34m\u001b[0m\u001b[0;34m\u001b[0m\u001b[0m\n\u001b[0m\u001b[1;32m      3\u001b[0m \u001b[0mprint\u001b[0m\u001b[0;34m(\u001b[0m\u001b[0mmessage\u001b[0m\u001b[0;34m)\u001b[0m\u001b[0;34m\u001b[0m\u001b[0;34m\u001b[0m\u001b[0m\n",
            "\u001b[0;31mNameError\u001b[0m: name 'message_' is not defined"
          ]
        }
      ]
    },
    {
      "cell_type": "code",
      "source": [
        "list_a=[10,20,30,40]\n",
        "list_b=[]\n",
        "for i in list_a:\n",
        "  sq_value=i*2\n",
        "  list_b=list_b +[sq_value]\n",
        "print(list_b)"
      ],
      "metadata": {
        "colab": {
          "base_uri": "https://localhost:8080/"
        },
        "id": "0965cxkTIi9A",
        "outputId": "cc048ff0-c784-40b7-ba09-ee21d9790d6b"
      },
      "execution_count": null,
      "outputs": [
        {
          "output_type": "stream",
          "name": "stdout",
          "text": [
            "[20, 40, 60, 80]\n"
          ]
        }
      ]
    },
    {
      "cell_type": "code",
      "source": [
        "m=list(input())\n",
        "print(m)"
      ],
      "metadata": {
        "id": "tbwh5wD1Ktz3",
        "colab": {
          "base_uri": "https://localhost:8080/"
        },
        "outputId": "4245fb45-4a48-475e-b10a-0c4fd79f7ee7"
      },
      "execution_count": null,
      "outputs": [
        {
          "output_type": "stream",
          "name": "stdout",
          "text": [
            "10 20 30 \n",
            "['1', '0', ' ', '2', '0', ' ', '3', '0', ' ']\n"
          ]
        }
      ]
    },
    {
      "cell_type": "code",
      "source": [
        "nums=\"1,2,3,4\"\n",
        "nums_list=nums.split(\",\")\n",
        "print(nums_list)"
      ],
      "metadata": {
        "colab": {
          "base_uri": "https://localhost:8080/"
        },
        "id": "9p_87k_0di3N",
        "outputId": "f18dc129-9e6e-42f1-ddcd-5bb5d776d058"
      },
      "execution_count": null,
      "outputs": [
        {
          "output_type": "stream",
          "name": "stdout",
          "text": [
            "['1', '2', '3', '4']\n"
          ]
        }
      ]
    },
    {
      "cell_type": "code",
      "source": [
        "string_a=\"python is a programing language\"\n",
        "list_a=string_a.split('a')\n",
        "print(list_a)\n"
      ],
      "metadata": {
        "colab": {
          "base_uri": "https://localhost:8080/"
        },
        "id": "PFqJ1LtCc6ct",
        "outputId": "6899d036-de5e-4489-afad-3fba8d68373c"
      },
      "execution_count": null,
      "outputs": [
        {
          "output_type": "stream",
          "name": "stdout",
          "text": [
            "['python is ', ' progr', 'ming l', 'ngu', 'ge']\n"
          ]
        }
      ]
    },
    {
      "cell_type": "code",
      "source": [
        "list_a=['python is ','progr','mmi']\n",
        "string_a=\"a\".join(list_a)\n",
        "print(string_a)"
      ],
      "metadata": {
        "colab": {
          "base_uri": "https://localhost:8080/"
        },
        "id": "rS0XIw2heOmN",
        "outputId": "1e396ce2-e1de-41fe-dc51-a518c1ee7984"
      },
      "execution_count": null,
      "outputs": [
        {
          "output_type": "stream",
          "name": "stdout",
          "text": [
            "python is aprogrammi\n"
          ]
        }
      ]
    },
    {
      "cell_type": "code",
      "source": [
        "def greet():\n",
        "  print(\"welcome\")\n",
        "  name=input(\"a\")\n",
        "  print(name)\n",
        "  greet ()"
      ],
      "metadata": {
        "id": "uHEQ_i9hh1TC"
      },
      "execution_count": null,
      "outputs": []
    },
    {
      "cell_type": "code",
      "source": [
        "a=int(input())\n",
        "demo()\n",
        "\n",
        "def demo():\n",
        "  print(\"funtion calling\")"
      ],
      "metadata": {
        "id": "ZlRI9J17kiao",
        "colab": {
          "base_uri": "https://localhost:8080/"
        },
        "outputId": "90a9f26c-82e9-4656-a1be-386be801b783"
      },
      "execution_count": null,
      "outputs": [
        {
          "output_type": "stream",
          "name": "stdout",
          "text": [
            "1\n",
            "function calling\n"
          ]
        }
      ]
    },
    {
      "cell_type": "code",
      "source": [
        "def greet(word):\n",
        "      msg=\"Hello\"+ word\n",
        "      print(msg)\n",
        "\n",
        "      name=input()\n",
        "      greet(word=name)"
      ],
      "metadata": {
        "id": "0m3WXtUyk560"
      },
      "execution_count": null,
      "outputs": []
    },
    {
      "cell_type": "code",
      "source": [
        "def greet(arg_1, arg_2):\n",
        "  print(arg_1+ \" \" +arg_2)\n",
        "\n",
        "  greeting=input()\n",
        "  name =input()\n",
        "  greet(arg_1=greeting, arg_2=name)"
      ],
      "metadata": {
        "id": "5tSMiZE7mn8M"
      },
      "execution_count": null,
      "outputs": []
    },
    {
      "cell_type": "code",
      "source": [
        "def greet(arg_1,arg_2):\n",
        "  print(arg_1+ \" \" +arg_2)\n",
        "\n",
        "  greeting=input()\n",
        "  name=input()\n",
        "  greet(greeting,name)"
      ],
      "metadata": {
        "id": "GsYRaNiHoVK7"
      },
      "execution_count": null,
      "outputs": []
    },
    {
      "cell_type": "code",
      "source": [
        "def find_E_O(a):\n",
        "  if (a%2==0):\n",
        "     print(\"Even number\")\n",
        "else:\n",
        "     print(\"odd number\")\n",
        "\n",
        "  number=int(input())\n",
        "  find_E_O(a=number)"
      ],
      "metadata": {
        "id": "fflNaDxwrcGM",
        "colab": {
          "base_uri": "https://localhost:8080/",
          "height": 106
        },
        "outputId": "e07c3640-ee98-4b0f-e350-1d81ec7e10f2"
      },
      "execution_count": null,
      "outputs": [
        {
          "output_type": "error",
          "ename": "IndentationError",
          "evalue": "unindent does not match any outer indentation level (<tokenize>, line 7)",
          "traceback": [
            "\u001b[0;36m  File \u001b[0;32m\"<tokenize>\"\u001b[0;36m, line \u001b[0;32m7\u001b[0m\n\u001b[0;31m    number=int(input())\u001b[0m\n\u001b[0m    ^\u001b[0m\n\u001b[0;31mIndentationError\u001b[0m\u001b[0;31m:\u001b[0m unindent does not match any outer indentation level\n"
          ]
        }
      ]
    },
    {
      "cell_type": "code",
      "source": [
        "def printDetails(id,name=\"vasu\",age=\"35\"):\n",
        "   print(\"id is\",id)\n",
        "   print(\"Name is\",name)\n",
        "   print(\"age is\", age)\n",
        "\n",
        "printDetails(101)\n"
      ],
      "metadata": {
        "id": "ktrAgedOuBpP",
        "colab": {
          "base_uri": "https://localhost:8080/"
        },
        "outputId": "5fbb78a4-521f-4822-e1bd-86dda1db3a00"
      },
      "execution_count": null,
      "outputs": [
        {
          "output_type": "stream",
          "name": "stdout",
          "text": [
            "id is 101\n",
            "Name is vasu\n",
            "age is 35\n"
          ]
        }
      ]
    },
    {
      "cell_type": "code",
      "source": [
        "a=2\n",
        "tuple_a=(5,\"six\",a,8.2)\n",
        "print(type(tuple_a))\n",
        "print(tuple_a)"
      ],
      "metadata": {
        "id": "eJ5NamzUxShg",
        "colab": {
          "base_uri": "https://localhost:8080/"
        },
        "outputId": "6abae835-d4ad-4a73-a4b8-8bea55e8908d"
      },
      "execution_count": null,
      "outputs": [
        {
          "output_type": "stream",
          "name": "stdout",
          "text": [
            "<class 'tuple'>\n",
            "(5, 'six', 2, 8.2)\n"
          ]
        }
      ]
    },
    {
      "cell_type": "code",
      "source": [
        "a=2\n",
        "tuple_a=(5,\"six\",a,8.2)\n",
        "print(tuple_a[1])"
      ],
      "metadata": {
        "colab": {
          "base_uri": "https://localhost:8080/"
        },
        "id": "hUBQUDFl0djO",
        "outputId": "644ebe01-5615-4cda-f75c-9eff20949f68"
      },
      "execution_count": null,
      "outputs": [
        {
          "output_type": "stream",
          "name": "stdout",
          "text": [
            "six\n"
          ]
        }
      ]
    },
    {
      "cell_type": "code",
      "source": [
        "tuple_a = (1, 2, 3, 5)\n",
        "tuple_a = tuple_a[:3] + (4,)\n",
        "print(tuple_a)"
      ],
      "metadata": {
        "colab": {
          "base_uri": "https://localhost:8080/"
        },
        "id": "h-gLxxHG0DHX",
        "outputId": "5086d9f4-9819-4063-f8d9-2bc0489ae989"
      },
      "execution_count": null,
      "outputs": [
        {
          "output_type": "stream",
          "name": "stdout",
          "text": [
            "(1, 2, 3, 4)\n"
          ]
        }
      ]
    },
    {
      "cell_type": "code",
      "source": [
        "tuple_a=tuple(range(4))\n",
        "print(tuple_a)"
      ],
      "metadata": {
        "colab": {
          "base_uri": "https://localhost:8080/"
        },
        "id": "uL98r6at1KHm",
        "outputId": "37a1176a-edf3-48f5-c1b0-3d0bf7537efc"
      },
      "execution_count": null,
      "outputs": [
        {
          "output_type": "stream",
          "name": "stdout",
          "text": [
            "(0, 1, 2, 3)\n"
          ]
        }
      ]
    },
    {
      "cell_type": "code",
      "source": [
        "color=\"Red\"\n",
        "tuple_a=tuple(color)\n",
        "print(tuple_a)"
      ],
      "metadata": {
        "colab": {
          "base_uri": "https://localhost:8080/"
        },
        "id": "dGNSkpKg1fxG",
        "outputId": "cba07ead-4176-4a2c-e2a0-2945513f4e44"
      },
      "execution_count": null,
      "outputs": [
        {
          "output_type": "stream",
          "name": "stdout",
          "text": [
            "('R', 'e', 'd')\n"
          ]
        }
      ]
    },
    {
      "cell_type": "code",
      "source": [
        "tuple_a=(1,2,3,4)\n",
        "is_part=5 in tuple_a\n",
        "print(is_part)"
      ],
      "metadata": {
        "colab": {
          "base_uri": "https://localhost:8080/"
        },
        "id": "3Su2iXI_1oO-",
        "outputId": "3863e990-fc64-42e6-fbb5-84861ca49a8a"
      },
      "execution_count": null,
      "outputs": [
        {
          "output_type": "stream",
          "name": "stdout",
          "text": [
            "False\n"
          ]
        }
      ]
    },
    {
      "cell_type": "code",
      "source": [
        "tuple_a=(1,2,3,4)\n",
        "is_part= 1 not in tuple_a\n",
        "print(is_part)"
      ],
      "metadata": {
        "colab": {
          "base_uri": "https://localhost:8080/"
        },
        "id": "G0I6gIvS3V9c",
        "outputId": "3e224704-951b-4fdf-885c-7d6f8712e617"
      },
      "execution_count": null,
      "outputs": [
        {
          "output_type": "stream",
          "name": "stdout",
          "text": [
            "False\n"
          ]
        }
      ]
    },
    {
      "cell_type": "code",
      "source": [
        "word='python'\n",
        "is_part='th' in word\n",
        "print(is_part)"
      ],
      "metadata": {
        "colab": {
          "base_uri": "https://localhost:8080/"
        },
        "id": "j1RazmI_3pCn",
        "outputId": "5258afb6-ac01-4dc5-81b9-3d20c21d7ce0"
      },
      "execution_count": null,
      "outputs": [
        {
          "output_type": "stream",
          "name": "stdout",
          "text": [
            "True\n"
          ]
        }
      ]
    },
    {
      "cell_type": "code",
      "source": [
        "list_a=[1,2,3]\n",
        "tuple_a=tuple(list_a)\n",
        "print(tuple_a)"
      ],
      "metadata": {
        "colab": {
          "base_uri": "https://localhost:8080/"
        },
        "id": "h_TInKs14Ous",
        "outputId": "0af32c07-4137-4a19-f08e-1f0d0ae9ccd8"
      },
      "execution_count": null,
      "outputs": [
        {
          "output_type": "stream",
          "name": "stdout",
          "text": [
            "(1, 2, 3)\n"
          ]
        }
      ]
    },
    {
      "cell_type": "code",
      "source": [
        "def sum_of_string(s):\n",
        "    total = 0\n",
        "    for ch in s:\n",
        "        total += ord(ch)   # ord() gives ASCII value\n",
        "    return total\n",
        "\n",
        "# Example\n",
        "name = \"Ravi\"\n",
        "print(\"Sum of string:\", sum_of_string(name))"
      ],
      "metadata": {
        "id": "srSBS5Q2B1_f",
        "colab": {
          "base_uri": "https://localhost:8080/"
        },
        "outputId": "5093317e-aeeb-44cf-d894-d542a03b7814"
      },
      "execution_count": 2,
      "outputs": [
        {
          "output_type": "stream",
          "name": "stdout",
          "text": [
            "Sum of string: 402\n"
          ]
        }
      ]
    },
    {
      "cell_type": "code",
      "source": [
        "def factorial(n):\n",
        "    fact = 1\n",
        "    for i in range(1, n+1):\n",
        "        fact *= i\n",
        "    return fact\n",
        "\n",
        "# Example\n",
        "print(\"Factorial of 8:\", factorial(8))"
      ],
      "metadata": {
        "id": "dBxaC8ZuB85_",
        "colab": {
          "base_uri": "https://localhost:8080/"
        },
        "outputId": "e5e08e90-fc73-4920-8335-3049df27a702"
      },
      "execution_count": 3,
      "outputs": [
        {
          "output_type": "stream",
          "name": "stdout",
          "text": [
            "Factorial of 8: 40320\n"
          ]
        }
      ]
    }
  ],
  "metadata": {
    "colab": {
      "provenance": [],
      "include_colab_link": true
    },
    "kernelspec": {
      "display_name": "Python 3",
      "name": "python3"
    },
    "language_info": {
      "name": "python"
    }
  },
  "nbformat": 4,
  "nbformat_minor": 0
}